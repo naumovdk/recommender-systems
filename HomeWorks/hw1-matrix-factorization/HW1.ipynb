{
  "nbformat": 4,
  "nbformat_minor": 0,
  "metadata": {
    "kernelspec": {
      "display_name": "Python 3",
      "language": "python",
      "name": "python3"
    },
    "language_info": {
      "codemirror_mode": {
        "name": "ipython",
        "version": 3
      },
      "file_extension": ".py",
      "mimetype": "text/x-python",
      "name": "python",
      "nbconvert_exporter": "python",
      "pygments_lexer": "ipython3",
      "version": "3.7.4"
    },
    "colab": {
      "name": "HW1.ipynb",
      "provenance": [],
      "toc_visible": true,
      "include_colab_link": true
    },
    "accelerator": "GPU",
    "widgets": {
      "application/vnd.jupyter.widget-state+json": {
        "b63dcac4a35445eeaa616aa386b46ab5": {
          "model_module": "@jupyter-widgets/controls",
          "model_name": "HBoxModel",
          "state": {
            "_view_name": "HBoxView",
            "_dom_classes": [],
            "_model_name": "HBoxModel",
            "_view_module": "@jupyter-widgets/controls",
            "_model_module_version": "1.5.0",
            "_view_count": null,
            "_view_module_version": "1.5.0",
            "box_style": "",
            "layout": "IPY_MODEL_22a3242f26cc4ce19159c78fd20f0d38",
            "_model_module": "@jupyter-widgets/controls",
            "children": [
              "IPY_MODEL_c6e95cacf45341f7a6a6a15440a387cc",
              "IPY_MODEL_8ceb51b196df4cc8a9ce69353da8a791"
            ]
          }
        },
        "22a3242f26cc4ce19159c78fd20f0d38": {
          "model_module": "@jupyter-widgets/base",
          "model_name": "LayoutModel",
          "state": {
            "_view_name": "LayoutView",
            "grid_template_rows": null,
            "right": null,
            "justify_content": null,
            "_view_module": "@jupyter-widgets/base",
            "overflow": null,
            "_model_module_version": "1.2.0",
            "_view_count": null,
            "flex_flow": null,
            "width": null,
            "min_width": null,
            "border": null,
            "align_items": null,
            "bottom": null,
            "_model_module": "@jupyter-widgets/base",
            "top": null,
            "grid_column": null,
            "overflow_y": null,
            "overflow_x": null,
            "grid_auto_flow": null,
            "grid_area": null,
            "grid_template_columns": null,
            "flex": null,
            "_model_name": "LayoutModel",
            "justify_items": null,
            "grid_row": null,
            "max_height": null,
            "align_content": null,
            "visibility": null,
            "align_self": null,
            "height": null,
            "min_height": null,
            "padding": null,
            "grid_auto_rows": null,
            "grid_gap": null,
            "max_width": null,
            "order": null,
            "_view_module_version": "1.2.0",
            "grid_template_areas": null,
            "object_position": null,
            "object_fit": null,
            "grid_auto_columns": null,
            "margin": null,
            "display": null,
            "left": null
          }
        },
        "c6e95cacf45341f7a6a6a15440a387cc": {
          "model_module": "@jupyter-widgets/controls",
          "model_name": "FloatProgressModel",
          "state": {
            "_view_name": "ProgressView",
            "style": "IPY_MODEL_5406cc53a4b84e9fb69ef3b50031570d",
            "_dom_classes": [],
            "description": "100%",
            "_model_name": "FloatProgressModel",
            "bar_style": "success",
            "max": 100,
            "_view_module": "@jupyter-widgets/controls",
            "_model_module_version": "1.5.0",
            "value": 100,
            "_view_count": null,
            "_view_module_version": "1.5.0",
            "orientation": "horizontal",
            "min": 0,
            "description_tooltip": null,
            "_model_module": "@jupyter-widgets/controls",
            "layout": "IPY_MODEL_39c96dbbb7514dc8a023edd93d32701f"
          }
        },
        "8ceb51b196df4cc8a9ce69353da8a791": {
          "model_module": "@jupyter-widgets/controls",
          "model_name": "HTMLModel",
          "state": {
            "_view_name": "HTMLView",
            "style": "IPY_MODEL_2d978d933f774c35a00ec390903b8612",
            "_dom_classes": [],
            "description": "",
            "_model_name": "HTMLModel",
            "placeholder": "​",
            "_view_module": "@jupyter-widgets/controls",
            "_model_module_version": "1.5.0",
            "value": " 100/100 [00:08&lt;00:00, 11.79it/s, loss=0.0135]",
            "_view_count": null,
            "_view_module_version": "1.5.0",
            "description_tooltip": null,
            "_model_module": "@jupyter-widgets/controls",
            "layout": "IPY_MODEL_7b6f1b4ff2a9426fb389ae16e6a760a0"
          }
        },
        "5406cc53a4b84e9fb69ef3b50031570d": {
          "model_module": "@jupyter-widgets/controls",
          "model_name": "ProgressStyleModel",
          "state": {
            "_view_name": "StyleView",
            "_model_name": "ProgressStyleModel",
            "description_width": "initial",
            "_view_module": "@jupyter-widgets/base",
            "_model_module_version": "1.5.0",
            "_view_count": null,
            "_view_module_version": "1.2.0",
            "bar_color": null,
            "_model_module": "@jupyter-widgets/controls"
          }
        },
        "39c96dbbb7514dc8a023edd93d32701f": {
          "model_module": "@jupyter-widgets/base",
          "model_name": "LayoutModel",
          "state": {
            "_view_name": "LayoutView",
            "grid_template_rows": null,
            "right": null,
            "justify_content": null,
            "_view_module": "@jupyter-widgets/base",
            "overflow": null,
            "_model_module_version": "1.2.0",
            "_view_count": null,
            "flex_flow": null,
            "width": null,
            "min_width": null,
            "border": null,
            "align_items": null,
            "bottom": null,
            "_model_module": "@jupyter-widgets/base",
            "top": null,
            "grid_column": null,
            "overflow_y": null,
            "overflow_x": null,
            "grid_auto_flow": null,
            "grid_area": null,
            "grid_template_columns": null,
            "flex": null,
            "_model_name": "LayoutModel",
            "justify_items": null,
            "grid_row": null,
            "max_height": null,
            "align_content": null,
            "visibility": null,
            "align_self": null,
            "height": null,
            "min_height": null,
            "padding": null,
            "grid_auto_rows": null,
            "grid_gap": null,
            "max_width": null,
            "order": null,
            "_view_module_version": "1.2.0",
            "grid_template_areas": null,
            "object_position": null,
            "object_fit": null,
            "grid_auto_columns": null,
            "margin": null,
            "display": null,
            "left": null
          }
        },
        "2d978d933f774c35a00ec390903b8612": {
          "model_module": "@jupyter-widgets/controls",
          "model_name": "DescriptionStyleModel",
          "state": {
            "_view_name": "StyleView",
            "_model_name": "DescriptionStyleModel",
            "description_width": "",
            "_view_module": "@jupyter-widgets/base",
            "_model_module_version": "1.5.0",
            "_view_count": null,
            "_view_module_version": "1.2.0",
            "_model_module": "@jupyter-widgets/controls"
          }
        },
        "7b6f1b4ff2a9426fb389ae16e6a760a0": {
          "model_module": "@jupyter-widgets/base",
          "model_name": "LayoutModel",
          "state": {
            "_view_name": "LayoutView",
            "grid_template_rows": null,
            "right": null,
            "justify_content": null,
            "_view_module": "@jupyter-widgets/base",
            "overflow": null,
            "_model_module_version": "1.2.0",
            "_view_count": null,
            "flex_flow": null,
            "width": null,
            "min_width": null,
            "border": null,
            "align_items": null,
            "bottom": null,
            "_model_module": "@jupyter-widgets/base",
            "top": null,
            "grid_column": null,
            "overflow_y": null,
            "overflow_x": null,
            "grid_auto_flow": null,
            "grid_area": null,
            "grid_template_columns": null,
            "flex": null,
            "_model_name": "LayoutModel",
            "justify_items": null,
            "grid_row": null,
            "max_height": null,
            "align_content": null,
            "visibility": null,
            "align_self": null,
            "height": null,
            "min_height": null,
            "padding": null,
            "grid_auto_rows": null,
            "grid_gap": null,
            "max_width": null,
            "order": null,
            "_view_module_version": "1.2.0",
            "grid_template_areas": null,
            "object_position": null,
            "object_fit": null,
            "grid_auto_columns": null,
            "margin": null,
            "display": null,
            "left": null
          }
        }
      }
    }
  },
  "cells": [
    {
      "cell_type": "markdown",
      "metadata": {
        "id": "view-in-github",
        "colab_type": "text"
      },
      "source": [
        "<a href=\"https://colab.research.google.com/github/naumovdk/recommender-systems/blob/master/HomeWorks/hw1-matrix-factorization/HW1.ipynb\" target=\"_parent\"><img src=\"https://colab.research.google.com/assets/colab-badge.svg\" alt=\"Open In Colab\"/></a>"
      ]
    },
    {
      "cell_type": "markdown",
      "metadata": {
        "id": "3bIwKuLIO0PN"
      },
      "source": [
        "### Матричные факторизации"
      ]
    },
    {
      "cell_type": "markdown",
      "metadata": {
        "id": "zg9Ij8jCO0PO"
      },
      "source": [
        "В данной работе вам предстоит познакомиться с практической стороной матричных разложений.\n",
        "Работа поделена на 4 задания:\n",
        "1. Вам необходимо реализовать SVD разложения используя SGD на explicit данных\n",
        "2. Вам необходимо реализовать матричное разложения используя ALS на implicit данных\n",
        "3. Вам необходимо реализовать матричное разложения используя BPR(pair-wise loss) на implicit данных\n",
        "4. Вам необходимо реализовать матричное разложения используя WARP(list-wise loss) на implicit данных\n"
      ]
    },
    {
      "cell_type": "code",
      "metadata": {
        "colab": {
          "base_uri": "https://localhost:8080/"
        },
        "id": "NI9lc_WqO0PO",
        "outputId": "4ece5906-a2c5-4fdf-8992-d6f690b0602b"
      },
      "source": [
        "# !pip install implicit\n",
        "import implicit\n",
        "import pandas as pd\n",
        "import numpy as np\n",
        "import scipy.sparse as sp\n",
        "\n",
        "# from lightfm.datasets import fetch_movielens"
      ],
      "execution_count": 3,
      "outputs": [
        {
          "output_type": "stream",
          "text": [
            "Collecting implicit\n",
            "\u001b[?25l  Downloading https://files.pythonhosted.org/packages/bc/07/c0121884722d16e2c5beeb815f6b84b41cbf22e738e4075f1475be2791bc/implicit-0.4.4.tar.gz (1.1MB)\n",
            "\r\u001b[K     |▎                               | 10kB 21.1MB/s eta 0:00:01\r\u001b[K     |▋                               | 20kB 27.6MB/s eta 0:00:01\r\u001b[K     |▉                               | 30kB 29.4MB/s eta 0:00:01\r\u001b[K     |█▏                              | 40kB 33.1MB/s eta 0:00:01\r\u001b[K     |█▌                              | 51kB 30.2MB/s eta 0:00:01\r\u001b[K     |█▊                              | 61kB 32.7MB/s eta 0:00:01\r\u001b[K     |██                              | 71kB 19.6MB/s eta 0:00:01\r\u001b[K     |██▍                             | 81kB 19.6MB/s eta 0:00:01\r\u001b[K     |██▋                             | 92kB 19.0MB/s eta 0:00:01\r\u001b[K     |███                             | 102kB 19.3MB/s eta 0:00:01\r\u001b[K     |███▎                            | 112kB 19.3MB/s eta 0:00:01\r\u001b[K     |███▌                            | 122kB 19.3MB/s eta 0:00:01\r\u001b[K     |███▉                            | 133kB 19.3MB/s eta 0:00:01\r\u001b[K     |████▏                           | 143kB 19.3MB/s eta 0:00:01\r\u001b[K     |████▍                           | 153kB 19.3MB/s eta 0:00:01\r\u001b[K     |████▊                           | 163kB 19.3MB/s eta 0:00:01\r\u001b[K     |█████                           | 174kB 19.3MB/s eta 0:00:01\r\u001b[K     |█████▎                          | 184kB 19.3MB/s eta 0:00:01\r\u001b[K     |█████▋                          | 194kB 19.3MB/s eta 0:00:01\r\u001b[K     |██████                          | 204kB 19.3MB/s eta 0:00:01\r\u001b[K     |██████▏                         | 215kB 19.3MB/s eta 0:00:01\r\u001b[K     |██████▌                         | 225kB 19.3MB/s eta 0:00:01\r\u001b[K     |██████▉                         | 235kB 19.3MB/s eta 0:00:01\r\u001b[K     |███████                         | 245kB 19.3MB/s eta 0:00:01\r\u001b[K     |███████▍                        | 256kB 19.3MB/s eta 0:00:01\r\u001b[K     |███████▊                        | 266kB 19.3MB/s eta 0:00:01\r\u001b[K     |████████                        | 276kB 19.3MB/s eta 0:00:01\r\u001b[K     |████████▎                       | 286kB 19.3MB/s eta 0:00:01\r\u001b[K     |████████▋                       | 296kB 19.3MB/s eta 0:00:01\r\u001b[K     |████████▉                       | 307kB 19.3MB/s eta 0:00:01\r\u001b[K     |█████████▏                      | 317kB 19.3MB/s eta 0:00:01\r\u001b[K     |█████████▌                      | 327kB 19.3MB/s eta 0:00:01\r\u001b[K     |█████████▊                      | 337kB 19.3MB/s eta 0:00:01\r\u001b[K     |██████████                      | 348kB 19.3MB/s eta 0:00:01\r\u001b[K     |██████████▍                     | 358kB 19.3MB/s eta 0:00:01\r\u001b[K     |██████████▋                     | 368kB 19.3MB/s eta 0:00:01\r\u001b[K     |███████████                     | 378kB 19.3MB/s eta 0:00:01\r\u001b[K     |███████████▏                    | 389kB 19.3MB/s eta 0:00:01\r\u001b[K     |███████████▌                    | 399kB 19.3MB/s eta 0:00:01\r\u001b[K     |███████████▉                    | 409kB 19.3MB/s eta 0:00:01\r\u001b[K     |████████████                    | 419kB 19.3MB/s eta 0:00:01\r\u001b[K     |████████████▍                   | 430kB 19.3MB/s eta 0:00:01\r\u001b[K     |████████████▊                   | 440kB 19.3MB/s eta 0:00:01\r\u001b[K     |█████████████                   | 450kB 19.3MB/s eta 0:00:01\r\u001b[K     |█████████████▎                  | 460kB 19.3MB/s eta 0:00:01\r\u001b[K     |█████████████▋                  | 471kB 19.3MB/s eta 0:00:01\r\u001b[K     |█████████████▉                  | 481kB 19.3MB/s eta 0:00:01\r\u001b[K     |██████████████▏                 | 491kB 19.3MB/s eta 0:00:01\r\u001b[K     |██████████████▌                 | 501kB 19.3MB/s eta 0:00:01\r\u001b[K     |██████████████▊                 | 512kB 19.3MB/s eta 0:00:01\r\u001b[K     |███████████████                 | 522kB 19.3MB/s eta 0:00:01\r\u001b[K     |███████████████▍                | 532kB 19.3MB/s eta 0:00:01\r\u001b[K     |███████████████▋                | 542kB 19.3MB/s eta 0:00:01\r\u001b[K     |████████████████                | 552kB 19.3MB/s eta 0:00:01\r\u001b[K     |████████████████▎               | 563kB 19.3MB/s eta 0:00:01\r\u001b[K     |████████████████▌               | 573kB 19.3MB/s eta 0:00:01\r\u001b[K     |████████████████▉               | 583kB 19.3MB/s eta 0:00:01\r\u001b[K     |█████████████████▏              | 593kB 19.3MB/s eta 0:00:01\r\u001b[K     |█████████████████▍              | 604kB 19.3MB/s eta 0:00:01\r\u001b[K     |█████████████████▊              | 614kB 19.3MB/s eta 0:00:01\r\u001b[K     |██████████████████              | 624kB 19.3MB/s eta 0:00:01\r\u001b[K     |██████████████████▎             | 634kB 19.3MB/s eta 0:00:01\r\u001b[K     |██████████████████▋             | 645kB 19.3MB/s eta 0:00:01\r\u001b[K     |███████████████████             | 655kB 19.3MB/s eta 0:00:01\r\u001b[K     |███████████████████▏            | 665kB 19.3MB/s eta 0:00:01\r\u001b[K     |███████████████████▌            | 675kB 19.3MB/s eta 0:00:01\r\u001b[K     |███████████████████▉            | 686kB 19.3MB/s eta 0:00:01\r\u001b[K     |████████████████████            | 696kB 19.3MB/s eta 0:00:01\r\u001b[K     |████████████████████▍           | 706kB 19.3MB/s eta 0:00:01\r\u001b[K     |████████████████████▊           | 716kB 19.3MB/s eta 0:00:01\r\u001b[K     |█████████████████████           | 727kB 19.3MB/s eta 0:00:01\r\u001b[K     |█████████████████████▎          | 737kB 19.3MB/s eta 0:00:01\r\u001b[K     |█████████████████████▋          | 747kB 19.3MB/s eta 0:00:01\r\u001b[K     |█████████████████████▉          | 757kB 19.3MB/s eta 0:00:01\r\u001b[K     |██████████████████████▏         | 768kB 19.3MB/s eta 0:00:01\r\u001b[K     |██████████████████████▍         | 778kB 19.3MB/s eta 0:00:01\r\u001b[K     |██████████████████████▊         | 788kB 19.3MB/s eta 0:00:01\r\u001b[K     |███████████████████████         | 798kB 19.3MB/s eta 0:00:01\r\u001b[K     |███████████████████████▎        | 808kB 19.3MB/s eta 0:00:01\r\u001b[K     |███████████████████████▋        | 819kB 19.3MB/s eta 0:00:01\r\u001b[K     |████████████████████████        | 829kB 19.3MB/s eta 0:00:01\r\u001b[K     |████████████████████████▏       | 839kB 19.3MB/s eta 0:00:01\r\u001b[K     |████████████████████████▌       | 849kB 19.3MB/s eta 0:00:01\r\u001b[K     |████████████████████████▉       | 860kB 19.3MB/s eta 0:00:01\r\u001b[K     |█████████████████████████       | 870kB 19.3MB/s eta 0:00:01\r\u001b[K     |█████████████████████████▍      | 880kB 19.3MB/s eta 0:00:01\r\u001b[K     |█████████████████████████▊      | 890kB 19.3MB/s eta 0:00:01\r\u001b[K     |██████████████████████████      | 901kB 19.3MB/s eta 0:00:01\r\u001b[K     |██████████████████████████▎     | 911kB 19.3MB/s eta 0:00:01\r\u001b[K     |██████████████████████████▋     | 921kB 19.3MB/s eta 0:00:01\r\u001b[K     |██████████████████████████▉     | 931kB 19.3MB/s eta 0:00:01\r\u001b[K     |███████████████████████████▏    | 942kB 19.3MB/s eta 0:00:01\r\u001b[K     |███████████████████████████▌    | 952kB 19.3MB/s eta 0:00:01\r\u001b[K     |███████████████████████████▊    | 962kB 19.3MB/s eta 0:00:01\r\u001b[K     |████████████████████████████    | 972kB 19.3MB/s eta 0:00:01\r\u001b[K     |████████████████████████████▍   | 983kB 19.3MB/s eta 0:00:01\r\u001b[K     |████████████████████████████▋   | 993kB 19.3MB/s eta 0:00:01\r\u001b[K     |█████████████████████████████   | 1.0MB 19.3MB/s eta 0:00:01\r\u001b[K     |█████████████████████████████▎  | 1.0MB 19.3MB/s eta 0:00:01\r\u001b[K     |█████████████████████████████▌  | 1.0MB 19.3MB/s eta 0:00:01\r\u001b[K     |█████████████████████████████▉  | 1.0MB 19.3MB/s eta 0:00:01\r\u001b[K     |██████████████████████████████▏ | 1.0MB 19.3MB/s eta 0:00:01\r\u001b[K     |██████████████████████████████▍ | 1.1MB 19.3MB/s eta 0:00:01\r\u001b[K     |██████████████████████████████▊ | 1.1MB 19.3MB/s eta 0:00:01\r\u001b[K     |███████████████████████████████ | 1.1MB 19.3MB/s eta 0:00:01\r\u001b[K     |███████████████████████████████▎| 1.1MB 19.3MB/s eta 0:00:01\r\u001b[K     |███████████████████████████████▋| 1.1MB 19.3MB/s eta 0:00:01\r\u001b[K     |████████████████████████████████| 1.1MB 19.3MB/s eta 0:00:01\r\u001b[K     |████████████████████████████████| 1.1MB 19.3MB/s \n",
            "\u001b[?25hRequirement already satisfied: numpy in /usr/local/lib/python3.7/dist-packages (from implicit) (1.19.5)\n",
            "Requirement already satisfied: scipy>=0.16 in /usr/local/lib/python3.7/dist-packages (from implicit) (1.4.1)\n",
            "Requirement already satisfied: tqdm>=4.27 in /usr/local/lib/python3.7/dist-packages (from implicit) (4.41.1)\n",
            "Building wheels for collected packages: implicit\n",
            "  Building wheel for implicit (setup.py) ... \u001b[?25l\u001b[?25hdone\n",
            "  Created wheel for implicit: filename=implicit-0.4.4-cp37-cp37m-linux_x86_64.whl size=3406403 sha256=6403ef999e4f08326a358b3c8be12e0feeb598c4d3064cc9b53ad5d829fdbec1\n",
            "  Stored in directory: /root/.cache/pip/wheels/bf/d4/ec/fd4f622fcbefb7521f149905295b2c26adecb23af38aa28217\n",
            "Successfully built implicit\n",
            "Installing collected packages: implicit\n",
            "Successfully installed implicit-0.4.4\n"
          ],
          "name": "stdout"
        }
      ]
    },
    {
      "cell_type": "markdown",
      "metadata": {
        "id": "k9yN1x9XO0PP"
      },
      "source": [
        "В данной работе мы будем работать с explicit датасетом movieLens, в котором представленны пары user_id movie_id и rating выставленный пользователем фильму\n",
        "\n",
        "Скачать датасет можно по ссылке https://grouplens.org/datasets/movielens/1m/"
      ]
    },
    {
      "cell_type": "code",
      "metadata": {
        "id": "RA9PiCwXO0PP"
      },
      "source": [
        "github_ratings = 'https://raw.githubusercontent.com/naumovdk/recommender-systems/master/HomeWorks/hw1-matrix-factorization/ml-1m/ratings.dat'\n",
        "ratings = pd.read_csv(github_ratings, delimiter='::', header=None, \n",
        "        names=['user_id', 'movie_id', 'rating', 'timestamp'], \n",
        "        usecols=['user_id', 'movie_id', 'rating'], engine='python')"
      ],
      "execution_count": 4,
      "outputs": []
    },
    {
      "cell_type": "code",
      "metadata": {
        "id": "lQZKUDVgO0PQ"
      },
      "source": [
        "github_movies = 'https://raw.githubusercontent.com/naumovdk/recommender-systems/master/HomeWorks/hw1-matrix-factorization/ml-1m/movies.dat'\n",
        "movie_info = pd.read_csv(github_movies, delimiter='::', header=None, \n",
        "        names=['movie_id', 'name', 'category'], engine='python', encoding='ISO-8859-1')"
      ],
      "execution_count": 5,
      "outputs": []
    },
    {
      "cell_type": "markdown",
      "metadata": {
        "id": "WkSeai-4O0PQ"
      },
      "source": [
        "Explicit данные"
      ]
    },
    {
      "cell_type": "code",
      "metadata": {
        "colab": {
          "base_uri": "https://localhost:8080/",
          "height": 357
        },
        "id": "X0fmCQnEO0PQ",
        "outputId": "d5ac1f02-d8ca-4ee0-ad46-3b30975d2933"
      },
      "source": [
        "ratings.head(10)"
      ],
      "execution_count": 6,
      "outputs": [
        {
          "output_type": "execute_result",
          "data": {
            "text/html": [
              "<div>\n",
              "<style scoped>\n",
              "    .dataframe tbody tr th:only-of-type {\n",
              "        vertical-align: middle;\n",
              "    }\n",
              "\n",
              "    .dataframe tbody tr th {\n",
              "        vertical-align: top;\n",
              "    }\n",
              "\n",
              "    .dataframe thead th {\n",
              "        text-align: right;\n",
              "    }\n",
              "</style>\n",
              "<table border=\"1\" class=\"dataframe\">\n",
              "  <thead>\n",
              "    <tr style=\"text-align: right;\">\n",
              "      <th></th>\n",
              "      <th>user_id</th>\n",
              "      <th>movie_id</th>\n",
              "      <th>rating</th>\n",
              "    </tr>\n",
              "  </thead>\n",
              "  <tbody>\n",
              "    <tr>\n",
              "      <th>0</th>\n",
              "      <td>1</td>\n",
              "      <td>1193</td>\n",
              "      <td>5</td>\n",
              "    </tr>\n",
              "    <tr>\n",
              "      <th>1</th>\n",
              "      <td>1</td>\n",
              "      <td>661</td>\n",
              "      <td>3</td>\n",
              "    </tr>\n",
              "    <tr>\n",
              "      <th>2</th>\n",
              "      <td>1</td>\n",
              "      <td>914</td>\n",
              "      <td>3</td>\n",
              "    </tr>\n",
              "    <tr>\n",
              "      <th>3</th>\n",
              "      <td>1</td>\n",
              "      <td>3408</td>\n",
              "      <td>4</td>\n",
              "    </tr>\n",
              "    <tr>\n",
              "      <th>4</th>\n",
              "      <td>1</td>\n",
              "      <td>2355</td>\n",
              "      <td>5</td>\n",
              "    </tr>\n",
              "    <tr>\n",
              "      <th>5</th>\n",
              "      <td>1</td>\n",
              "      <td>1197</td>\n",
              "      <td>3</td>\n",
              "    </tr>\n",
              "    <tr>\n",
              "      <th>6</th>\n",
              "      <td>1</td>\n",
              "      <td>1287</td>\n",
              "      <td>5</td>\n",
              "    </tr>\n",
              "    <tr>\n",
              "      <th>7</th>\n",
              "      <td>1</td>\n",
              "      <td>2804</td>\n",
              "      <td>5</td>\n",
              "    </tr>\n",
              "    <tr>\n",
              "      <th>8</th>\n",
              "      <td>1</td>\n",
              "      <td>594</td>\n",
              "      <td>4</td>\n",
              "    </tr>\n",
              "    <tr>\n",
              "      <th>9</th>\n",
              "      <td>1</td>\n",
              "      <td>919</td>\n",
              "      <td>4</td>\n",
              "    </tr>\n",
              "  </tbody>\n",
              "</table>\n",
              "</div>"
            ],
            "text/plain": [
              "   user_id  movie_id  rating\n",
              "0        1      1193       5\n",
              "1        1       661       3\n",
              "2        1       914       3\n",
              "3        1      3408       4\n",
              "4        1      2355       5\n",
              "5        1      1197       3\n",
              "6        1      1287       5\n",
              "7        1      2804       5\n",
              "8        1       594       4\n",
              "9        1       919       4"
            ]
          },
          "metadata": {
            "tags": []
          },
          "execution_count": 6
        }
      ]
    },
    {
      "cell_type": "markdown",
      "metadata": {
        "id": "w9rELCDEO0PR"
      },
      "source": [
        "Для того, чтобы преобразовать текущий датасет в Implicit, давайте считать что позитивная оценка это оценка >=4"
      ]
    },
    {
      "cell_type": "code",
      "metadata": {
        "id": "Er-4g9vsO0PR"
      },
      "source": [
        "implicit_ratings = ratings.loc[(ratings['rating'] >= 4)]"
      ],
      "execution_count": 7,
      "outputs": []
    },
    {
      "cell_type": "code",
      "metadata": {
        "colab": {
          "base_uri": "https://localhost:8080/",
          "height": 357
        },
        "id": "VL1L0bbLO0PR",
        "outputId": "4e33b242-95e0-4c19-bfe0-676b97c95a00"
      },
      "source": [
        "implicit_ratings.head(10)"
      ],
      "execution_count": 8,
      "outputs": [
        {
          "output_type": "execute_result",
          "data": {
            "text/html": [
              "<div>\n",
              "<style scoped>\n",
              "    .dataframe tbody tr th:only-of-type {\n",
              "        vertical-align: middle;\n",
              "    }\n",
              "\n",
              "    .dataframe tbody tr th {\n",
              "        vertical-align: top;\n",
              "    }\n",
              "\n",
              "    .dataframe thead th {\n",
              "        text-align: right;\n",
              "    }\n",
              "</style>\n",
              "<table border=\"1\" class=\"dataframe\">\n",
              "  <thead>\n",
              "    <tr style=\"text-align: right;\">\n",
              "      <th></th>\n",
              "      <th>user_id</th>\n",
              "      <th>movie_id</th>\n",
              "      <th>rating</th>\n",
              "    </tr>\n",
              "  </thead>\n",
              "  <tbody>\n",
              "    <tr>\n",
              "      <th>0</th>\n",
              "      <td>1</td>\n",
              "      <td>1193</td>\n",
              "      <td>5</td>\n",
              "    </tr>\n",
              "    <tr>\n",
              "      <th>3</th>\n",
              "      <td>1</td>\n",
              "      <td>3408</td>\n",
              "      <td>4</td>\n",
              "    </tr>\n",
              "    <tr>\n",
              "      <th>4</th>\n",
              "      <td>1</td>\n",
              "      <td>2355</td>\n",
              "      <td>5</td>\n",
              "    </tr>\n",
              "    <tr>\n",
              "      <th>6</th>\n",
              "      <td>1</td>\n",
              "      <td>1287</td>\n",
              "      <td>5</td>\n",
              "    </tr>\n",
              "    <tr>\n",
              "      <th>7</th>\n",
              "      <td>1</td>\n",
              "      <td>2804</td>\n",
              "      <td>5</td>\n",
              "    </tr>\n",
              "    <tr>\n",
              "      <th>8</th>\n",
              "      <td>1</td>\n",
              "      <td>594</td>\n",
              "      <td>4</td>\n",
              "    </tr>\n",
              "    <tr>\n",
              "      <th>9</th>\n",
              "      <td>1</td>\n",
              "      <td>919</td>\n",
              "      <td>4</td>\n",
              "    </tr>\n",
              "    <tr>\n",
              "      <th>10</th>\n",
              "      <td>1</td>\n",
              "      <td>595</td>\n",
              "      <td>5</td>\n",
              "    </tr>\n",
              "    <tr>\n",
              "      <th>11</th>\n",
              "      <td>1</td>\n",
              "      <td>938</td>\n",
              "      <td>4</td>\n",
              "    </tr>\n",
              "    <tr>\n",
              "      <th>12</th>\n",
              "      <td>1</td>\n",
              "      <td>2398</td>\n",
              "      <td>4</td>\n",
              "    </tr>\n",
              "  </tbody>\n",
              "</table>\n",
              "</div>"
            ],
            "text/plain": [
              "    user_id  movie_id  rating\n",
              "0         1      1193       5\n",
              "3         1      3408       4\n",
              "4         1      2355       5\n",
              "6         1      1287       5\n",
              "7         1      2804       5\n",
              "8         1       594       4\n",
              "9         1       919       4\n",
              "10        1       595       5\n",
              "11        1       938       4\n",
              "12        1      2398       4"
            ]
          },
          "metadata": {
            "tags": []
          },
          "execution_count": 8
        }
      ]
    },
    {
      "cell_type": "markdown",
      "metadata": {
        "id": "JadQZebPO0PR"
      },
      "source": [
        "Удобнее работать с sparse матричками, давайте преобразуем DataFrame в CSR матрицы"
      ]
    },
    {
      "cell_type": "code",
      "metadata": {
        "id": "U6veO-wFO0PS"
      },
      "source": [
        "users = implicit_ratings[\"user_id\"]\n",
        "movies = implicit_ratings[\"movie_id\"]\n",
        "user_item = sp.coo_matrix((np.ones_like(users), (users, movies)))\n",
        "user_item_t_csr = user_item.T.tocsr()\n",
        "user_item_csr = user_item.tocsr()"
      ],
      "execution_count": 10,
      "outputs": []
    },
    {
      "cell_type": "markdown",
      "metadata": {
        "id": "s-5R50mwO0PS"
      },
      "source": [
        "В качестве примера воспользуемся ALS разложением из библиотеки implicit\n",
        "\n",
        "Зададим размерность латентного пространства равным 64, это же определяет размер user/item эмбедингов"
      ]
    },
    {
      "cell_type": "code",
      "metadata": {
        "colab": {
          "base_uri": "https://localhost:8080/"
        },
        "id": "nEt6IOJCO0PS",
        "outputId": "1e0e4b4e-f81f-4c47-db97-284761a611f9"
      },
      "source": [
        "model = implicit.als.AlternatingLeastSquares(factors=64, iterations=100, calculate_training_loss=True)"
      ],
      "execution_count": 11,
      "outputs": [
        {
          "output_type": "stream",
          "text": [
            "WARNING:root:OpenBLAS detected. Its highly recommend to set the environment variable 'export OPENBLAS_NUM_THREADS=1' to disable its internal multithreading\n"
          ],
          "name": "stderr"
        }
      ]
    },
    {
      "cell_type": "markdown",
      "metadata": {
        "id": "0w0j0eKdO0PS"
      },
      "source": [
        "В качестве loss здесь всеми любимый RMSE"
      ]
    },
    {
      "cell_type": "code",
      "metadata": {
        "colab": {
          "base_uri": "https://localhost:8080/",
          "height": 66,
          "referenced_widgets": [
            "b63dcac4a35445eeaa616aa386b46ab5",
            "22a3242f26cc4ce19159c78fd20f0d38",
            "c6e95cacf45341f7a6a6a15440a387cc",
            "8ceb51b196df4cc8a9ce69353da8a791",
            "5406cc53a4b84e9fb69ef3b50031570d",
            "39c96dbbb7514dc8a023edd93d32701f",
            "2d978d933f774c35a00ec390903b8612",
            "7b6f1b4ff2a9426fb389ae16e6a760a0"
          ]
        },
        "id": "NZnDtjZCO0PT",
        "outputId": "b5513a4a-1cec-4ee4-d5cc-2da15ad7cef8"
      },
      "source": [
        "model.fit(user_item_t_csr)"
      ],
      "execution_count": 12,
      "outputs": [
        {
          "output_type": "display_data",
          "data": {
            "application/vnd.jupyter.widget-view+json": {
              "model_id": "b63dcac4a35445eeaa616aa386b46ab5",
              "version_minor": 0,
              "version_major": 2
            },
            "text/plain": [
              "HBox(children=(FloatProgress(value=0.0), HTML(value='')))"
            ]
          },
          "metadata": {
            "tags": []
          }
        },
        {
          "output_type": "stream",
          "text": [
            "\n"
          ],
          "name": "stdout"
        }
      ]
    },
    {
      "cell_type": "markdown",
      "metadata": {
        "id": "EemMIh6MO0PT"
      },
      "source": [
        "Построим похожие фильмы по 1 movie_id = Истории игрушек"
      ]
    },
    {
      "cell_type": "code",
      "metadata": {
        "colab": {
          "base_uri": "https://localhost:8080/",
          "height": 203
        },
        "id": "wI3FQBIVO0PT",
        "outputId": "25ec400e-9c03-4062-c821-dab6ae702a7d"
      },
      "source": [
        "movie_info.head(5)"
      ],
      "execution_count": 13,
      "outputs": [
        {
          "output_type": "execute_result",
          "data": {
            "text/html": [
              "<div>\n",
              "<style scoped>\n",
              "    .dataframe tbody tr th:only-of-type {\n",
              "        vertical-align: middle;\n",
              "    }\n",
              "\n",
              "    .dataframe tbody tr th {\n",
              "        vertical-align: top;\n",
              "    }\n",
              "\n",
              "    .dataframe thead th {\n",
              "        text-align: right;\n",
              "    }\n",
              "</style>\n",
              "<table border=\"1\" class=\"dataframe\">\n",
              "  <thead>\n",
              "    <tr style=\"text-align: right;\">\n",
              "      <th></th>\n",
              "      <th>movie_id</th>\n",
              "      <th>name</th>\n",
              "      <th>category</th>\n",
              "    </tr>\n",
              "  </thead>\n",
              "  <tbody>\n",
              "    <tr>\n",
              "      <th>0</th>\n",
              "      <td>1</td>\n",
              "      <td>Toy Story (1995)</td>\n",
              "      <td>Animation|Children's|Comedy</td>\n",
              "    </tr>\n",
              "    <tr>\n",
              "      <th>1</th>\n",
              "      <td>2</td>\n",
              "      <td>Jumanji (1995)</td>\n",
              "      <td>Adventure|Children's|Fantasy</td>\n",
              "    </tr>\n",
              "    <tr>\n",
              "      <th>2</th>\n",
              "      <td>3</td>\n",
              "      <td>Grumpier Old Men (1995)</td>\n",
              "      <td>Comedy|Romance</td>\n",
              "    </tr>\n",
              "    <tr>\n",
              "      <th>3</th>\n",
              "      <td>4</td>\n",
              "      <td>Waiting to Exhale (1995)</td>\n",
              "      <td>Comedy|Drama</td>\n",
              "    </tr>\n",
              "    <tr>\n",
              "      <th>4</th>\n",
              "      <td>5</td>\n",
              "      <td>Father of the Bride Part II (1995)</td>\n",
              "      <td>Comedy</td>\n",
              "    </tr>\n",
              "  </tbody>\n",
              "</table>\n",
              "</div>"
            ],
            "text/plain": [
              "   movie_id                                name                      category\n",
              "0         1                    Toy Story (1995)   Animation|Children's|Comedy\n",
              "1         2                      Jumanji (1995)  Adventure|Children's|Fantasy\n",
              "2         3             Grumpier Old Men (1995)                Comedy|Romance\n",
              "3         4            Waiting to Exhale (1995)                  Comedy|Drama\n",
              "4         5  Father of the Bride Part II (1995)                        Comedy"
            ]
          },
          "metadata": {
            "tags": []
          },
          "execution_count": 13
        }
      ]
    },
    {
      "cell_type": "code",
      "metadata": {
        "id": "BdgUTYPZO0PT"
      },
      "source": [
        "get_similars = lambda item_id, model : [movie_info[movie_info[\"movie_id\"] == x[0]][\"name\"].to_string() \n",
        "                                        for x in model.similar_items(item_id)]"
      ],
      "execution_count": 14,
      "outputs": []
    },
    {
      "cell_type": "markdown",
      "metadata": {
        "id": "jaDN1gw3O0PT"
      },
      "source": [
        "Как мы видим, симилары действительно оказались симиларами.\n",
        "\n",
        "Качество симиларов часто является хорошим способом проверить качество алгоритмов.\n",
        "\n",
        "P.S. Если хочется поглубже разобраться в том как разные алгоритмы формируют разные латентные пространства, рекомендую загружать полученные вектора в tensorBoard и смотреть на сформированное пространство"
      ]
    },
    {
      "cell_type": "code",
      "metadata": {
        "colab": {
          "base_uri": "https://localhost:8080/"
        },
        "id": "YW-saWrFO0PU",
        "outputId": "8653a5f6-c3c8-46a3-ea17-38aad9c50176"
      },
      "source": [
        "get_similars(1, model)"
      ],
      "execution_count": 15,
      "outputs": [
        {
          "output_type": "execute_result",
          "data": {
            "text/plain": [
              "['0    Toy Story (1995)',\n",
              " '3045    Toy Story 2 (1999)',\n",
              " \"2286    Bug's Life, A (1998)\",\n",
              " '33    Babe (1995)',\n",
              " '2315    Babe: Pig in the City (1998)',\n",
              " '584    Aladdin (1992)',\n",
              " '1526    Hercules (1997)',\n",
              " '2692    Iron Giant, The (1999)',\n",
              " '2252    Pleasantville (1998)',\n",
              " '3817    Went to Coney Island on a Mission From God... ...']"
            ]
          },
          "metadata": {
            "tags": []
          },
          "execution_count": 15
        }
      ]
    },
    {
      "cell_type": "markdown",
      "metadata": {
        "id": "ch_tpOC0O0PU"
      },
      "source": [
        "Давайте теперь построим рекомендации для юзеров\n",
        "\n",
        "Как мы видим юзеру нравится фантастика, значит и в рекомендациях ожидаем увидеть фантастику"
      ]
    },
    {
      "cell_type": "code",
      "metadata": {
        "id": "RCnzADhtO0PU"
      },
      "source": [
        "get_user_history = lambda user_id, implicit_ratings : [movie_info[movie_info[\"movie_id\"] == x][\"name\"].to_string() \n",
        "                                            for x in implicit_ratings[implicit_ratings[\"user_id\"] == user_id][\"movie_id\"]]"
      ],
      "execution_count": 16,
      "outputs": []
    },
    {
      "cell_type": "code",
      "metadata": {
        "colab": {
          "base_uri": "https://localhost:8080/"
        },
        "id": "EkDCujuKO0PU",
        "outputId": "12e5d24a-75ec-45f1-fe28-72807e967c2a"
      },
      "source": [
        "get_user_history(4, implicit_ratings)"
      ],
      "execution_count": 17,
      "outputs": [
        {
          "output_type": "execute_result",
          "data": {
            "text/plain": [
              "['3399    Hustler, The (1961)',\n",
              " '2882    Fistful of Dollars, A (1964)',\n",
              " '1196    Alien (1979)',\n",
              " '1023    Die Hard (1988)',\n",
              " '257    Star Wars: Episode IV - A New Hope (1977)',\n",
              " '1959    Saving Private Ryan (1998)',\n",
              " '476    Jurassic Park (1993)',\n",
              " '1180    Raiders of the Lost Ark (1981)',\n",
              " '1885    Rocky (1976)',\n",
              " '1081    E.T. the Extra-Terrestrial (1982)',\n",
              " '3349    Thelma & Louise (1991)',\n",
              " '3633    Mad Max (1979)',\n",
              " '2297    King Kong (1933)',\n",
              " '1366    Jaws (1975)',\n",
              " '1183    Good, The Bad and The Ugly, The (1966)',\n",
              " '2623    Run Lola Run (Lola rennt) (1998)',\n",
              " '2878    Goldfinger (1964)',\n",
              " '1220    Terminator, The (1984)']"
            ]
          },
          "metadata": {
            "tags": []
          },
          "execution_count": 17
        }
      ]
    },
    {
      "cell_type": "markdown",
      "metadata": {
        "id": "uwWyeSTEO0PV"
      },
      "source": [
        "Получилось! \n",
        "\n",
        "Мы действительно порекомендовали пользователю фантастику и боевики, более того встречаются продолжения тех фильмов, которые он высоко оценил"
      ]
    },
    {
      "cell_type": "code",
      "metadata": {
        "id": "hRWT-n9PO0PV"
      },
      "source": [
        "get_recommendations = lambda user_id, model : [movie_info[movie_info[\"movie_id\"] == x[0]][\"name\"].to_string() \n",
        "                                               for x in model.recommend(user_id, user_item_csr)]"
      ],
      "execution_count": 18,
      "outputs": []
    },
    {
      "cell_type": "code",
      "metadata": {
        "colab": {
          "base_uri": "https://localhost:8080/"
        },
        "id": "cOtfWNheO0PV",
        "outputId": "95a4eba2-1833-4b35-fbcb-acca848721aa"
      },
      "source": [
        "get_recommendations(4, model)"
      ],
      "execution_count": 19,
      "outputs": [
        {
          "output_type": "execute_result",
          "data": {
            "text/plain": [
              "['585    Terminator 2: Judgment Day (1991)',\n",
              " '1271    Indiana Jones and the Last Crusade (1989)',\n",
              " '1182    Aliens (1986)',\n",
              " '1284    Butch Cassidy and the Sundance Kid (1969)',\n",
              " '1178    Star Wars: Episode V - The Empire Strikes Back...',\n",
              " '2502    Matrix, The (1999)',\n",
              " '1884    French Connection, The (1971)',\n",
              " '1179    Princess Bride, The (1987)',\n",
              " '1892    Rain Man (1988)',\n",
              " '3458    Predator (1987)']"
            ]
          },
          "metadata": {
            "tags": []
          },
          "execution_count": 19
        }
      ]
    },
    {
      "cell_type": "markdown",
      "metadata": {
        "id": "y_G2WM2oO0PV"
      },
      "source": [
        "Теперь ваша очередь реализовать самые популярные алгоритмы матричных разложений\n",
        "\n",
        "Что будет оцениваться:\n",
        "1. Корректность алгоритма\n",
        "2. Качество получившихся симиларов\n",
        "3. Качество итоговых рекомендаций для юзера"
      ]
    },
    {
      "cell_type": "markdown",
      "metadata": {
        "id": "l1myIjbGO0PV"
      },
      "source": [
        "### Задание 1. Не использую готовые решения, реализовать SVD разложение используя SGD на explicit данных"
      ]
    },
    {
      "cell_type": "code",
      "metadata": {
        "id": "IKuTG3c5O0PV"
      },
      "source": [
        "from sklearn.base import TransformerMixin\n",
        "from sklearn.model_selection import GridSearchCV, train_test_split"
      ],
      "execution_count": 20,
      "outputs": []
    },
    {
      "cell_type": "code",
      "metadata": {
        "id": "4xggI5trO0PW"
      },
      "source": [
        "class SGD:\n",
        "    def __init__(self, features=40, iterations=10_000, learning_rate=0.01, matrix_reg=0.01, bias_reg=0.01, scale=0.1, verbose=1):\n",
        "        self.features = features\n",
        "        self.iterations = iterations\n",
        "        self.learning_rate = learning_rate\n",
        "        self.scale = np.power(scale, 1 / iterations)\n",
        "        \n",
        "        self.user_reg = matrix_reg\n",
        "        self.item_reg = matrix_reg\n",
        "        self.user_bias_reg = bias_reg\n",
        "        self.item_bias_reg = bias_reg\n",
        "\n",
        "        self.verbose = verbose\n",
        "\n",
        "\n",
        "    def fit(self, ratings=ratings):\n",
        "        self.users = ratings['user_id'].max()\n",
        "        self.items = ratings['movie_id'].max()\n",
        "        self.avg = ratings['rating'].mean()\n",
        "\n",
        "        self.U = np.random.uniform(0, 1 / np.sqrt(self.features), (self.users, self.features))\n",
        "        self.I = np.random.uniform(0, 1 / np.sqrt(self.features), (self.items, self.features)) \n",
        "\n",
        "        self.user_bias = np.zeros((self.users, 1))\n",
        "        self.item_bias = np.zeros((self.items, 1))\n",
        "    \n",
        "        for iter in range(self.iterations):\n",
        "            i, j, actual = map(int, ratings.sample().to_numpy().ravel())\n",
        "            i -= 1\n",
        "            j -= 1\n",
        "            \n",
        "            error = (self.U[i] @ self.I[j].T + self.user_bias[i] + self.item_bias[j].T + self.avg) - actual\n",
        "            \n",
        "            self.U[i] -= self.learning_rate * (error * self.I[j]   + self.user_reg * self.U[i])\n",
        "            self.I[j] -= self.learning_rate * (error * self.U[i].T + self.item_reg * self.I[j])\n",
        "            self.user_bias[i] -= self.learning_rate * (error + self.user_bias_reg * self.user_bias[i])\n",
        "            self.item_bias[j] -= self.learning_rate * (error + self.item_bias_reg * self.item_bias[j])\n",
        "\n",
        "            self.learning_rate *= self.scale\n",
        "\n",
        "            if iter % (self.iterations // self.verbose) == 0:\n",
        "                rmse = np.linalg.norm(ratings['rating'] - self.predict()[ratings['user_id'] - 1, ratings['movie_id'] - 1])\n",
        "                rmse /= len(ratings)\n",
        "                print(f'rmse {rmse}')\n",
        "                print(f'step {self.learning_rate}')\n",
        "                print()\n",
        "        \n",
        "        return self\n",
        "\n",
        "\n",
        "    def predict(self):\n",
        "        return self.U @ self.I.T + self.user_bias + self.item_bias.T + self.avg\n",
        "\n",
        "    \n",
        "    def similar_items(self, i, n=10):\n",
        "        metric = lambda j: np.linalg.norm(self.I[i] - self.I[j])\n",
        "        distances = [(j, metric(j)) for j in range(len(self.I))]\n",
        "        return sorted(distances, key=lambda pair: pair[1])[:n]"
      ],
      "execution_count": 21,
      "outputs": []
    },
    {
      "cell_type": "code",
      "metadata": {
        "colab": {
          "base_uri": "https://localhost:8080/"
        },
        "id": "bLatgF9TO0PW",
        "outputId": "b28dc1e6-8321-44a3-ff9f-3ed5648890c9"
      },
      "source": [
        "%%time\n",
        "sgd = SGD(iterations=400_000, verbose=4).fit()"
      ],
      "execution_count": 22,
      "outputs": [
        {
          "output_type": "stream",
          "text": [
            "rmse 0.0011449427423857541\n",
            "step 0.00999994243553836\n",
            "\n",
            "rmse 0.001021403069384898\n",
            "step 0.005623380881034522\n",
            "\n",
            "rmse 0.0009931892865256587\n",
            "step 0.0031622594566947933\n",
            "\n",
            "rmse 0.0009821093304909836\n",
            "step 0.0017782691734755693\n",
            "\n",
            "CPU times: user 2h 4min 39s, sys: 27.6 s, total: 2h 5min 7s\n",
            "Wall time: 2h 5min 4s\n"
          ],
          "name": "stdout"
        }
      ]
    },
    {
      "cell_type": "code",
      "metadata": {
        "id": "osd8isqiU_8w",
        "colab": {
          "base_uri": "https://localhost:8080/"
        },
        "outputId": "917750ee-a8c3-4570-eb5b-6e699ade677c"
      },
      "source": [
        "get_similars(1, sgd)"
      ],
      "execution_count": 23,
      "outputs": [
        {
          "output_type": "execute_result",
          "data": {
            "text/plain": [
              "['0    Toy Story (1995)',\n",
              " '2344    Clue (1985)',\n",
              " '1040    Get on the Bus (1996)',\n",
              " 'Series([], )',\n",
              " '171    Judge Dredd (1995)',\n",
              " '1545    G.I. Jane (1997)',\n",
              " '2348    Heartburn (1986)',\n",
              " '2382    Gate, The (1987)',\n",
              " '1946    Absent Minded Professor, The (1961)',\n",
              " '3393    Modern Times (1936)']"
            ]
          },
          "metadata": {
            "tags": []
          },
          "execution_count": 23
        }
      ]
    },
    {
      "cell_type": "markdown",
      "metadata": {
        "id": "LN4IzeKZO0PW"
      },
      "source": [
        "### Задание 2. Не использую готовые решения, реализовать матричное разложение используя ALS на implicit данных"
      ]
    },
    {
      "cell_type": "code",
      "metadata": {
        "id": "aVkf0PSdO0PW"
      },
      "source": [
        "# class ALS:\r\n",
        "#     def __init__(self, features=40, iterations=100, learning_rate=0.001, reg=1):\r\n",
        "#         self.features = features\r\n",
        "#         self.iterations = iterations\r\n",
        "#         self.learning_rate = learning_rate\r\n",
        "#         self.reg = reg\r\n",
        "\r\n",
        "#     def fit(self, ratings=implicit_ratings):\r\n",
        "#         self.ratings = ratings\r\n",
        "#         self.users = self.ratings['user_id'].max()\r\n",
        "#         self.items = self.ratings['movie_id'].max()\r\n",
        "        \r\n",
        "#         self.U = np.random.uniform(0, 1 / np.sqrt(self.features), (self.users, self.features))\r\n",
        "#         self.I = np.random.uniform(0, 1 / np.sqrt(self.features), (self.items, self.features))\r\n",
        "\r\n",
        "#         for iteration in range(self.iterations):\r\n",
        "#             error = self.U @ self.I.T - user_item_csr\r\n",
        "\r\n",
        "\r\n",
        "# ALS().fit()"
      ],
      "execution_count": null,
      "outputs": []
    },
    {
      "cell_type": "code",
      "metadata": {
        "id": "8uzXmjcb7130",
        "colab": {
          "base_uri": "https://localhost:8080/"
        },
        "outputId": "e127b175-b534-4d66-8db9-514596300c49"
      },
      "source": [
        "implicit_ratings\r\n",
        "user_item_csr[1, 3408]"
      ],
      "execution_count": null,
      "outputs": [
        {
          "output_type": "execute_result",
          "data": {
            "text/plain": [
              "1"
            ]
          },
          "metadata": {
            "tags": []
          },
          "execution_count": 46
        }
      ]
    },
    {
      "cell_type": "markdown",
      "metadata": {
        "id": "zGOZKbMpO0PX"
      },
      "source": [
        "### Задание 3. Не использую готовые решения, реализовать матричное разложение BPR на implicit данных"
      ]
    },
    {
      "cell_type": "code",
      "metadata": {
        "id": "EOu3O1_FO0PX"
      },
      "source": [
        ""
      ],
      "execution_count": null,
      "outputs": []
    },
    {
      "cell_type": "markdown",
      "metadata": {
        "id": "-iplS809O0PX"
      },
      "source": [
        "### Задание 4. Не использую готовые решения, реализовать матричное разложение WARP на implicit данных"
      ]
    },
    {
      "cell_type": "code",
      "metadata": {
        "id": "5Cm3OIRTO0PX"
      },
      "source": [
        ""
      ],
      "execution_count": null,
      "outputs": []
    }
  ]
}