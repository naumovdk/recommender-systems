{
 "cells": [
  {
   "cell_type": "markdown",
   "metadata": {},
   "source": [
    "#### Собрать более-менее приличную рекомендательную систему с помощью GBDT. Использование трюков из лекции (и не из неё), тюнинг и разумных объемов фича инжиниринг прям нужен. "
   ]
  },
  {
   "cell_type": "code",
   "execution_count": 161,
   "metadata": {},
   "outputs": [
    {
     "name": "stderr",
     "output_type": "stream",
     "text": [
      "C:\\Users\\Mi\\Anaconda3\\lib\\site-packages\\tensorflow\\python\\framework\\dtypes.py:526: FutureWarning: Passing (type, 1) or '1type' as a synonym of type is deprecated; in a future version of numpy, it will be understood as (type, (1,)) / '(1,)type'.\n",
      "  _np_qint8 = np.dtype([(\"qint8\", np.int8, 1)])\n",
      "C:\\Users\\Mi\\Anaconda3\\lib\\site-packages\\tensorflow\\python\\framework\\dtypes.py:527: FutureWarning: Passing (type, 1) or '1type' as a synonym of type is deprecated; in a future version of numpy, it will be understood as (type, (1,)) / '(1,)type'.\n",
      "  _np_quint8 = np.dtype([(\"quint8\", np.uint8, 1)])\n",
      "C:\\Users\\Mi\\Anaconda3\\lib\\site-packages\\tensorflow\\python\\framework\\dtypes.py:528: FutureWarning: Passing (type, 1) or '1type' as a synonym of type is deprecated; in a future version of numpy, it will be understood as (type, (1,)) / '(1,)type'.\n",
      "  _np_qint16 = np.dtype([(\"qint16\", np.int16, 1)])\n",
      "C:\\Users\\Mi\\Anaconda3\\lib\\site-packages\\tensorflow\\python\\framework\\dtypes.py:529: FutureWarning: Passing (type, 1) or '1type' as a synonym of type is deprecated; in a future version of numpy, it will be understood as (type, (1,)) / '(1,)type'.\n",
      "  _np_quint16 = np.dtype([(\"quint16\", np.uint16, 1)])\n",
      "C:\\Users\\Mi\\Anaconda3\\lib\\site-packages\\tensorflow\\python\\framework\\dtypes.py:530: FutureWarning: Passing (type, 1) or '1type' as a synonym of type is deprecated; in a future version of numpy, it will be understood as (type, (1,)) / '(1,)type'.\n",
      "  _np_qint32 = np.dtype([(\"qint32\", np.int32, 1)])\n",
      "C:\\Users\\Mi\\Anaconda3\\lib\\site-packages\\tensorflow\\python\\framework\\dtypes.py:535: FutureWarning: Passing (type, 1) or '1type' as a synonym of type is deprecated; in a future version of numpy, it will be understood as (type, (1,)) / '(1,)type'.\n",
      "  np_resource = np.dtype([(\"resource\", np.ubyte, 1)])\n",
      "C:\\Users\\Mi\\Anaconda3\\lib\\site-packages\\sklearn\\linear_model\\least_angle.py:30: DeprecationWarning: `np.float` is a deprecated alias for the builtin `float`. To silence this warning, use `float` by itself. Doing this will not modify any behavior and is safe. If you specifically wanted the numpy scalar type, use `np.float64` here.\n",
      "Deprecated in NumPy 1.20; for more details and guidance: https://numpy.org/devdocs/release/1.20.0-notes.html#deprecations\n",
      "  method='lar', copy_X=True, eps=np.finfo(np.float).eps,\n",
      "C:\\Users\\Mi\\Anaconda3\\lib\\site-packages\\sklearn\\linear_model\\least_angle.py:167: DeprecationWarning: `np.float` is a deprecated alias for the builtin `float`. To silence this warning, use `float` by itself. Doing this will not modify any behavior and is safe. If you specifically wanted the numpy scalar type, use `np.float64` here.\n",
      "Deprecated in NumPy 1.20; for more details and guidance: https://numpy.org/devdocs/release/1.20.0-notes.html#deprecations\n",
      "  method='lar', copy_X=True, eps=np.finfo(np.float).eps,\n",
      "C:\\Users\\Mi\\Anaconda3\\lib\\site-packages\\sklearn\\linear_model\\least_angle.py:284: DeprecationWarning: `np.float` is a deprecated alias for the builtin `float`. To silence this warning, use `float` by itself. Doing this will not modify any behavior and is safe. If you specifically wanted the numpy scalar type, use `np.float64` here.\n",
      "Deprecated in NumPy 1.20; for more details and guidance: https://numpy.org/devdocs/release/1.20.0-notes.html#deprecations\n",
      "  eps=np.finfo(np.float).eps, copy_Gram=True, verbose=0,\n",
      "C:\\Users\\Mi\\Anaconda3\\lib\\site-packages\\sklearn\\linear_model\\least_angle.py:862: DeprecationWarning: `np.float` is a deprecated alias for the builtin `float`. To silence this warning, use `float` by itself. Doing this will not modify any behavior and is safe. If you specifically wanted the numpy scalar type, use `np.float64` here.\n",
      "Deprecated in NumPy 1.20; for more details and guidance: https://numpy.org/devdocs/release/1.20.0-notes.html#deprecations\n",
      "  eps=np.finfo(np.float).eps, copy_X=True, fit_path=True,\n",
      "C:\\Users\\Mi\\Anaconda3\\lib\\site-packages\\sklearn\\linear_model\\least_angle.py:1101: DeprecationWarning: `np.float` is a deprecated alias for the builtin `float`. To silence this warning, use `float` by itself. Doing this will not modify any behavior and is safe. If you specifically wanted the numpy scalar type, use `np.float64` here.\n",
      "Deprecated in NumPy 1.20; for more details and guidance: https://numpy.org/devdocs/release/1.20.0-notes.html#deprecations\n",
      "  eps=np.finfo(np.float).eps, copy_X=True, fit_path=True,\n",
      "C:\\Users\\Mi\\Anaconda3\\lib\\site-packages\\sklearn\\linear_model\\least_angle.py:1127: DeprecationWarning: `np.float` is a deprecated alias for the builtin `float`. To silence this warning, use `float` by itself. Doing this will not modify any behavior and is safe. If you specifically wanted the numpy scalar type, use `np.float64` here.\n",
      "Deprecated in NumPy 1.20; for more details and guidance: https://numpy.org/devdocs/release/1.20.0-notes.html#deprecations\n",
      "  eps=np.finfo(np.float).eps, positive=False):\n",
      "C:\\Users\\Mi\\Anaconda3\\lib\\site-packages\\sklearn\\linear_model\\least_angle.py:1362: DeprecationWarning: `np.float` is a deprecated alias for the builtin `float`. To silence this warning, use `float` by itself. Doing this will not modify any behavior and is safe. If you specifically wanted the numpy scalar type, use `np.float64` here.\n",
      "Deprecated in NumPy 1.20; for more details and guidance: https://numpy.org/devdocs/release/1.20.0-notes.html#deprecations\n",
      "  max_n_alphas=1000, n_jobs=None, eps=np.finfo(np.float).eps,\n",
      "C:\\Users\\Mi\\Anaconda3\\lib\\site-packages\\sklearn\\linear_model\\least_angle.py:1602: DeprecationWarning: `np.float` is a deprecated alias for the builtin `float`. To silence this warning, use `float` by itself. Doing this will not modify any behavior and is safe. If you specifically wanted the numpy scalar type, use `np.float64` here.\n",
      "Deprecated in NumPy 1.20; for more details and guidance: https://numpy.org/devdocs/release/1.20.0-notes.html#deprecations\n",
      "  max_n_alphas=1000, n_jobs=None, eps=np.finfo(np.float).eps,\n",
      "C:\\Users\\Mi\\Anaconda3\\lib\\site-packages\\sklearn\\linear_model\\least_angle.py:1738: DeprecationWarning: `np.float` is a deprecated alias for the builtin `float`. To silence this warning, use `float` by itself. Doing this will not modify any behavior and is safe. If you specifically wanted the numpy scalar type, use `np.float64` here.\n",
      "Deprecated in NumPy 1.20; for more details and guidance: https://numpy.org/devdocs/release/1.20.0-notes.html#deprecations\n",
      "  eps=np.finfo(np.float).eps, copy_X=True, positive=False):\n",
      "C:\\Users\\Mi\\Anaconda3\\lib\\site-packages\\sklearn\\decomposition\\online_lda.py:29: DeprecationWarning: `np.float` is a deprecated alias for the builtin `float`. To silence this warning, use `float` by itself. Doing this will not modify any behavior and is safe. If you specifically wanted the numpy scalar type, use `np.float64` here.\n",
      "Deprecated in NumPy 1.20; for more details and guidance: https://numpy.org/devdocs/release/1.20.0-notes.html#deprecations\n",
      "  EPS = np.finfo(np.float).eps\n",
      "`np.bool` is a deprecated alias for the builtin `bool`. To silence this warning, use `bool` by itself. Doing this will not modify any behavior and is safe. If you specifically wanted the numpy scalar type, use `np.bool_` here.\n",
      "Deprecated in NumPy 1.20; for more details and guidance: https://numpy.org/devdocs/release/1.20.0-notes.html#deprecations\n",
      "`np.bool` is a deprecated alias for the builtin `bool`. To silence this warning, use `bool` by itself. Doing this will not modify any behavior and is safe. If you specifically wanted the numpy scalar type, use `np.bool_` here.\n",
      "Deprecated in NumPy 1.20; for more details and guidance: https://numpy.org/devdocs/release/1.20.0-notes.html#deprecations\n",
      "`np.int` is a deprecated alias for the builtin `int`. To silence this warning, use `int` by itself. Doing this will not modify any behavior and is safe. When replacing `np.int`, you may wish to use e.g. `np.int64` or `np.int32` to specify the precision. If you wish to review your current use, check the release note link for additional information.\n",
      "Deprecated in NumPy 1.20; for more details and guidance: https://numpy.org/devdocs/release/1.20.0-notes.html#deprecations\n"
     ]
    }
   ],
   "source": [
    "import numpy as np\n",
    "import pandas as pd\n",
    "\n",
    "from sklearn.model_selection import ShuffleSplit, cross_validate, train_test_split\n",
    "from sklearn.metrics import roc_auc_score\n",
    "from sklearn.metrics.pairwise import cosine_similarity\n",
    "from scipy import spatial as sp\n",
    "from catboost import CatBoostRegressor\n",
    "from catboost import Pool\n",
    "from catboost import cv\n",
    "import shap\n",
    "\n",
    "from gensim.models import Word2Vec\n",
    "\n",
    "from datetime import datetime\n",
    "from collections import defaultdict"
   ]
  },
  {
   "cell_type": "markdown",
   "metadata": {},
   "source": [
    "Загрузим юзеров, выкинем странные признаки, посчитаем сколько они зарегестрированы в приложении "
   ]
  },
  {
   "cell_type": "code",
   "execution_count": 59,
   "metadata": {},
   "outputs": [
    {
     "data": {
      "text/html": [
       "<div>\n",
       "<style scoped>\n",
       "    .dataframe tbody tr th:only-of-type {\n",
       "        vertical-align: middle;\n",
       "    }\n",
       "\n",
       "    .dataframe tbody tr th {\n",
       "        vertical-align: top;\n",
       "    }\n",
       "\n",
       "    .dataframe thead th {\n",
       "        text-align: right;\n",
       "    }\n",
       "</style>\n",
       "<table border=\"1\" class=\"dataframe\">\n",
       "  <thead>\n",
       "    <tr style=\"text-align: right;\">\n",
       "      <th></th>\n",
       "      <th>msno</th>\n",
       "      <th>city</th>\n",
       "      <th>bd</th>\n",
       "      <th>gender</th>\n",
       "      <th>time</th>\n",
       "      <th>359</th>\n",
       "      <th>1259</th>\n",
       "      <th>1019</th>\n",
       "      <th>1011</th>\n",
       "      <th>465</th>\n",
       "      <th>...</th>\n",
       "      <th>808</th>\n",
       "      <th>1117</th>\n",
       "      <th>1162</th>\n",
       "      <th>2144</th>\n",
       "      <th>2127</th>\n",
       "      <th>95</th>\n",
       "      <th>2008</th>\n",
       "      <th>1266</th>\n",
       "      <th>1110</th>\n",
       "      <th>2065</th>\n",
       "    </tr>\n",
       "  </thead>\n",
       "  <tbody>\n",
       "    <tr>\n",
       "      <td>0</td>\n",
       "      <td>XQxgAYj3klVKjR3oxPPXYYFp4soD4TuBghkhMTD4oTw=</td>\n",
       "      <td>1</td>\n",
       "      <td>0</td>\n",
       "      <td>-</td>\n",
       "      <td>2223 days</td>\n",
       "      <td>0.0</td>\n",
       "      <td>0.007042</td>\n",
       "      <td>0.0</td>\n",
       "      <td>0.007042</td>\n",
       "      <td>2.992188</td>\n",
       "      <td>...</td>\n",
       "      <td>0.0</td>\n",
       "      <td>0.0</td>\n",
       "      <td>0.0</td>\n",
       "      <td>0.0</td>\n",
       "      <td>0.0</td>\n",
       "      <td>0.0</td>\n",
       "      <td>0.0</td>\n",
       "      <td>0.0</td>\n",
       "      <td>0.0</td>\n",
       "      <td>0.0</td>\n",
       "    </tr>\n",
       "    <tr>\n",
       "      <td>1</td>\n",
       "      <td>UizsfmJb9mV54qE9hCYyU07Va97c0lCRLEQX3ae+ztM=</td>\n",
       "      <td>1</td>\n",
       "      <td>0</td>\n",
       "      <td>-</td>\n",
       "      <td>725 days</td>\n",
       "      <td>0.0</td>\n",
       "      <td>0.000000</td>\n",
       "      <td>0.0</td>\n",
       "      <td>0.000000</td>\n",
       "      <td>0.000000</td>\n",
       "      <td>...</td>\n",
       "      <td>0.0</td>\n",
       "      <td>0.0</td>\n",
       "      <td>0.0</td>\n",
       "      <td>0.0</td>\n",
       "      <td>0.0</td>\n",
       "      <td>0.0</td>\n",
       "      <td>0.0</td>\n",
       "      <td>0.0</td>\n",
       "      <td>0.0</td>\n",
       "      <td>0.0</td>\n",
       "    </tr>\n",
       "  </tbody>\n",
       "</table>\n",
       "<p>2 rows × 147 columns</p>\n",
       "</div>"
      ],
      "text/plain": [
       "                                           msno city  bd gender      time  \\\n",
       "0  XQxgAYj3klVKjR3oxPPXYYFp4soD4TuBghkhMTD4oTw=    1   0      - 2223 days   \n",
       "1  UizsfmJb9mV54qE9hCYyU07Va97c0lCRLEQX3ae+ztM=    1   0      -  725 days   \n",
       "\n",
       "   359      1259  1019      1011       465  ...  808  1117  1162  2144  2127  \\\n",
       "0  0.0  0.007042   0.0  0.007042  2.992188  ...  0.0   0.0   0.0   0.0   0.0   \n",
       "1  0.0  0.000000   0.0  0.000000  0.000000  ...  0.0   0.0   0.0   0.0   0.0   \n",
       "\n",
       "    95  2008  1266  1110  2065  \n",
       "0  0.0   0.0   0.0   0.0   0.0  \n",
       "1  0.0   0.0   0.0   0.0   0.0  \n",
       "\n",
       "[2 rows x 147 columns]"
      ]
     },
     "execution_count": 59,
     "metadata": {},
     "output_type": "execute_result"
    }
   ],
   "source": [
    "users = pd.read_csv('dataset/members.csv'\n",
    "                    , dtype={\n",
    "                        'msno': 'category'\n",
    "                        , 'bd': 'int'\n",
    "                        , 'city': 'category'\n",
    "                        , 'gender': 'category'\n",
    "                        , 'registration_init_time': str\n",
    "                        , 'expiration_date': str\n",
    "                    }\n",
    "                    , parse_dates=['registration_init_time', 'expiration_date'])\n",
    "\n",
    "users['time'] = users['expiration_date'] - users['registration_init_time']\n",
    "users['gender'] = users['gender'].cat.add_categories('-').fillna('-')\n",
    "\n",
    "users.drop(['registered_via', 'expiration_date', 'registration_init_time'], axis=1, inplace=True)\n",
    "\n",
    "users.head(2)"
   ]
  },
  {
   "cell_type": "markdown",
   "metadata": {},
   "source": [
    "Загрузим песни  \n",
    "В случае нескольких жанров, оставим первый"
   ]
  },
  {
   "cell_type": "code",
   "execution_count": 3,
   "metadata": {},
   "outputs": [],
   "source": [
    "types = {\n",
    "    'song_id': 'category'\n",
    "    , 'artist_name': 'category'\n",
    "    , 'composer': 'category'\n",
    "    , 'language': 'category'\n",
    "    , 'name': 'category'\n",
    "    , 'isrc': 'str'\n",
    "}\n",
    "\n",
    "info = pd.read_csv('dataset/song_extra_info.csv', dtype=types)\n",
    "songs = pd.read_csv('dataset/songs.csv', dtype=types).merge(info, how='left')\n",
    "\n",
    "def take_first(some):\n",
    "    return some.split('|')[0]\n",
    "\n",
    "songs['artist_name'] = songs['artist_name'].cat.add_categories('-').fillna('-').agg(take_first)\n",
    "songs['composer'] = songs['composer'].fillna('-').agg(take_first)\n",
    "songs['genre'] = songs['genre_ids'].fillna('-').agg(take_first)\n",
    "songs.drop('lyricist', axis=1, inplace=True)"
   ]
  },
  {
   "cell_type": "markdown",
   "metadata": {},
   "source": [
    "Раскодируем язык, лейбл и год песни  "
   ]
  },
  {
   "cell_type": "code",
   "execution_count": 4,
   "metadata": {},
   "outputs": [
    {
     "data": {
      "text/plain": [
       "(1968, 2008)"
      ]
     },
     "execution_count": 4,
     "metadata": {},
     "output_type": "execute_result"
    }
   ],
   "source": [
    "def year_to_int(year):\n",
    "    if year is None:\n",
    "        return None\n",
    "    if year > 21:\n",
    "        return 1900 + year\n",
    "    return 2000 + year\n",
    "\n",
    "year_to_int(68), year_to_int(int('08'))"
   ]
  },
  {
   "cell_type": "code",
   "execution_count": 61,
   "metadata": {},
   "outputs": [
    {
     "data": {
      "text/html": [
       "<div>\n",
       "<style scoped>\n",
       "    .dataframe tbody tr th:only-of-type {\n",
       "        vertical-align: middle;\n",
       "    }\n",
       "\n",
       "    .dataframe tbody tr th {\n",
       "        vertical-align: top;\n",
       "    }\n",
       "\n",
       "    .dataframe thead th {\n",
       "        text-align: right;\n",
       "    }\n",
       "</style>\n",
       "<table border=\"1\" class=\"dataframe\">\n",
       "  <thead>\n",
       "    <tr style=\"text-align: right;\">\n",
       "      <th></th>\n",
       "      <th>song_id</th>\n",
       "      <th>song_length</th>\n",
       "      <th>genre_ids</th>\n",
       "      <th>artist_name</th>\n",
       "      <th>composer</th>\n",
       "      <th>language</th>\n",
       "      <th>name</th>\n",
       "      <th>genre</th>\n",
       "      <th>country</th>\n",
       "      <th>label</th>\n",
       "      <th>year</th>\n",
       "    </tr>\n",
       "  </thead>\n",
       "  <tbody>\n",
       "    <tr>\n",
       "      <td>0</td>\n",
       "      <td>CXoTN1eb7AI+DntdU1vbcwGRV4SCIDxZu+YD8JP8r4E=</td>\n",
       "      <td>247640</td>\n",
       "      <td>465</td>\n",
       "      <td>張信哲 (Jeff Chang)</td>\n",
       "      <td>董貞</td>\n",
       "      <td>3.0</td>\n",
       "      <td>焚情</td>\n",
       "      <td>465</td>\n",
       "      <td>TW</td>\n",
       "      <td>B53</td>\n",
       "      <td>2014</td>\n",
       "    </tr>\n",
       "    <tr>\n",
       "      <td>1</td>\n",
       "      <td>o0kFgae9QtnYgRkVPqLJwa05zIhRlUjfF7O1tDw0ZDU=</td>\n",
       "      <td>197328</td>\n",
       "      <td>444</td>\n",
       "      <td>BLACKPINK</td>\n",
       "      <td>TEDDY</td>\n",
       "      <td>31.0</td>\n",
       "      <td>PLAYING WITH FIRE</td>\n",
       "      <td>444</td>\n",
       "      <td>-</td>\n",
       "      <td>-</td>\n",
       "      <td>2011</td>\n",
       "    </tr>\n",
       "  </tbody>\n",
       "</table>\n",
       "</div>"
      ],
      "text/plain": [
       "                                        song_id  song_length genre_ids  \\\n",
       "0  CXoTN1eb7AI+DntdU1vbcwGRV4SCIDxZu+YD8JP8r4E=       247640       465   \n",
       "1  o0kFgae9QtnYgRkVPqLJwa05zIhRlUjfF7O1tDw0ZDU=       197328       444   \n",
       "\n",
       "        artist_name composer language               name genre country label  \\\n",
       "0  張信哲 (Jeff Chang)       董貞      3.0                 焚情   465      TW   B53   \n",
       "1         BLACKPINK    TEDDY     31.0  PLAYING WITH FIRE   444       -     -   \n",
       "\n",
       "   year  \n",
       "0  2014  \n",
       "1  2011  "
      ]
     },
     "execution_count": 61,
     "metadata": {},
     "output_type": "execute_result"
    }
   ],
   "source": [
    "songs['country'] = songs['isrc'].agg(lambda s: str(s)[:2] if str(s).lower() != 'nan' else '-').astype('category')\n",
    "songs['label'] = songs['isrc'].agg(lambda s: str(s)[2:5] if str(s).lower() != 'nan' else '-').astype('category')\n",
    "songs['year'] = songs['isrc'].agg(lambda s: int(str(s)[5:7]) if str(s).lower() != 'nan' else None)\n",
    "\n",
    "songs['year'] = songs['year'].agg(lambda s: year_to_int(s))\n",
    "songs['year'] = songs['year'].fillna(songs['year'].median()).astype('int')\n",
    "\n",
    "songs.drop('isrc', axis=1, inplace=True)\n",
    "\n",
    "songs.head(2)"
   ]
  },
  {
   "cell_type": "markdown",
   "metadata": {},
   "source": [
    "Всё кроме юзеров склеим в один датасет  \n",
    "Позволю себе выкинуть песни, про которые нет информации, из-за того что, кто-то в неправильном порядке выгрузил таблицы из базы данных  "
   ]
  },
  {
   "cell_type": "code",
   "execution_count": 60,
   "metadata": {},
   "outputs": [
    {
     "data": {
      "text/html": [
       "<div>\n",
       "<style scoped>\n",
       "    .dataframe tbody tr th:only-of-type {\n",
       "        vertical-align: middle;\n",
       "    }\n",
       "\n",
       "    .dataframe tbody tr th {\n",
       "        vertical-align: top;\n",
       "    }\n",
       "\n",
       "    .dataframe thead th {\n",
       "        text-align: right;\n",
       "    }\n",
       "</style>\n",
       "<table border=\"1\" class=\"dataframe\">\n",
       "  <thead>\n",
       "    <tr style=\"text-align: right;\">\n",
       "      <th></th>\n",
       "      <th>msno</th>\n",
       "      <th>song_id</th>\n",
       "      <th>source_type</th>\n",
       "      <th>target</th>\n",
       "      <th>song_length</th>\n",
       "      <th>artist_name</th>\n",
       "      <th>composer</th>\n",
       "      <th>language</th>\n",
       "      <th>name</th>\n",
       "      <th>genre</th>\n",
       "      <th>...</th>\n",
       "      <th>808</th>\n",
       "      <th>1117</th>\n",
       "      <th>1162</th>\n",
       "      <th>2144</th>\n",
       "      <th>2127</th>\n",
       "      <th>95</th>\n",
       "      <th>2008</th>\n",
       "      <th>1266</th>\n",
       "      <th>1110</th>\n",
       "      <th>2065</th>\n",
       "    </tr>\n",
       "  </thead>\n",
       "  <tbody>\n",
       "    <tr>\n",
       "      <td>0</td>\n",
       "      <td>FGtllVqz18RPiwJj/edr2gV78zirAiY/9SmYvia+kCg=</td>\n",
       "      <td>BBzumQNXUHKdEBOB7mAJuzok+IJA1c2Ryg/yzTF6tik=</td>\n",
       "      <td>online-playlist</td>\n",
       "      <td>1</td>\n",
       "      <td>206471.0</td>\n",
       "      <td>Bastille</td>\n",
       "      <td>Dan Smith</td>\n",
       "      <td>52.0</td>\n",
       "      <td>Good Grief</td>\n",
       "      <td>359</td>\n",
       "      <td>...</td>\n",
       "      <td>0.0</td>\n",
       "      <td>0.0</td>\n",
       "      <td>0.0</td>\n",
       "      <td>0.0</td>\n",
       "      <td>0.0</td>\n",
       "      <td>0.0</td>\n",
       "      <td>0.0</td>\n",
       "      <td>0.0</td>\n",
       "      <td>0.0</td>\n",
       "      <td>0.0</td>\n",
       "    </tr>\n",
       "    <tr>\n",
       "      <td>1</td>\n",
       "      <td>Xumu+NIjS6QYVxDS4/t3SawvJ7viT9hPKXmf0RtLNx8=</td>\n",
       "      <td>bhp/MpSNoqoxOIB+/l8WPqu6jldth4DIpCm3ayXnJqM=</td>\n",
       "      <td>local-playlist</td>\n",
       "      <td>1</td>\n",
       "      <td>284584.0</td>\n",
       "      <td>Various Artists</td>\n",
       "      <td>-</td>\n",
       "      <td>52.0</td>\n",
       "      <td>Lords of Cardboard</td>\n",
       "      <td>1259</td>\n",
       "      <td>...</td>\n",
       "      <td>0.0</td>\n",
       "      <td>0.0</td>\n",
       "      <td>0.0</td>\n",
       "      <td>0.0</td>\n",
       "      <td>0.0</td>\n",
       "      <td>0.0</td>\n",
       "      <td>0.0</td>\n",
       "      <td>0.0</td>\n",
       "      <td>0.0</td>\n",
       "      <td>0.0</td>\n",
       "    </tr>\n",
       "  </tbody>\n",
       "</table>\n",
       "<p>2 rows × 159 columns</p>\n",
       "</div>"
      ],
      "text/plain": [
       "                                           msno  \\\n",
       "0  FGtllVqz18RPiwJj/edr2gV78zirAiY/9SmYvia+kCg=   \n",
       "1  Xumu+NIjS6QYVxDS4/t3SawvJ7viT9hPKXmf0RtLNx8=   \n",
       "\n",
       "                                        song_id      source_type  target  \\\n",
       "0  BBzumQNXUHKdEBOB7mAJuzok+IJA1c2Ryg/yzTF6tik=  online-playlist       1   \n",
       "1  bhp/MpSNoqoxOIB+/l8WPqu6jldth4DIpCm3ayXnJqM=   local-playlist       1   \n",
       "\n",
       "   song_length      artist_name   composer language                name genre  \\\n",
       "0     206471.0         Bastille  Dan Smith     52.0          Good Grief   359   \n",
       "1     284584.0  Various Artists          -     52.0  Lords of Cardboard  1259   \n",
       "\n",
       "   ...  808 1117  1162 2144  2127   95 2008  1266  1110  2065  \n",
       "0  ...  0.0  0.0   0.0  0.0   0.0  0.0  0.0   0.0   0.0   0.0  \n",
       "1  ...  0.0  0.0   0.0  0.0   0.0  0.0  0.0   0.0   0.0   0.0  \n",
       "\n",
       "[2 rows x 159 columns]"
      ]
     },
     "execution_count": 60,
     "metadata": {},
     "output_type": "execute_result"
    }
   ],
   "source": [
    "df = pd.read_csv('dataset/train.csv', dtype={\n",
    "    'msno': 'category'\n",
    "    , 'song_id': 'category'\n",
    "    , 'source_system_tab': 'category'\n",
    "    , 'source_screen_name': 'category'\n",
    "    , 'source_type': 'category'\n",
    "    , 'target': 'int'}).merge(songs, how='left')\n",
    "\n",
    "df.drop(['source_system_tab', 'source_screen_name', 'genre_ids'], axis=1, inplace=True)\n",
    "df['source_type'] = df['source_type'].cat.add_categories('-').fillna('-')\n",
    "\n",
    "df.dropna(inplace=True)\n",
    "\n",
    "df.head(2)"
   ]
  },
  {
   "cell_type": "markdown",
   "metadata": {},
   "source": [
    "Для каждого юзера посчитаем его предпочтения по жанрам"
   ]
  },
  {
   "cell_type": "code",
   "execution_count": null,
   "metadata": {},
   "outputs": [],
   "source": [
    "%%time\n",
    "\n",
    "u = users['msno'].to_numpy()\n",
    "msno_to_index = {}\n",
    "for i in range(len(u)):\n",
    "    msno_to_index[u[i]] = i\n",
    "    \n",
    "g = df[df['target'] == 1]['genre'].unique()\n",
    "genre_to_index = {}\n",
    "for i in range(len(g)):\n",
    "    genre_to_index[g[i]] = i\n",
    "\n",
    "counts = np.zeros((len(u), len(g)), dtype=np.float16)\n",
    "    \n",
    "likes = df[df['target'] == 1][['genre', 'msno']].to_numpy()\n",
    "for genre, msno in likes:\n",
    "    msno_index = msno_to_index[msno]\n",
    "    genre_index = genre_to_index[genre]\n",
    "    counts[msno_index][genre_index] += 1\n",
    "    \n",
    "counts = np.apply_along_axis(lambda a: a / len(a), 1, counts)\n",
    "\n",
    "for genre in g:\n",
    "    users[genre] = counts.T[genre_to_index[genre]]\n",
    "    users[genre] = users[genre].astype(np.float16)\n",
    "    \n",
    "users.head(2)"
   ]
  },
  {
   "cell_type": "markdown",
   "metadata": {},
   "source": [
    "Теперь юзеров можно добавить в основной датасет"
   ]
  },
  {
   "cell_type": "code",
   "execution_count": 53,
   "metadata": {},
   "outputs": [
    {
     "data": {
      "text/html": [
       "<div>\n",
       "<style scoped>\n",
       "    .dataframe tbody tr th:only-of-type {\n",
       "        vertical-align: middle;\n",
       "    }\n",
       "\n",
       "    .dataframe tbody tr th {\n",
       "        vertical-align: top;\n",
       "    }\n",
       "\n",
       "    .dataframe thead th {\n",
       "        text-align: right;\n",
       "    }\n",
       "</style>\n",
       "<table border=\"1\" class=\"dataframe\">\n",
       "  <thead>\n",
       "    <tr style=\"text-align: right;\">\n",
       "      <th></th>\n",
       "      <th>msno</th>\n",
       "      <th>song_id</th>\n",
       "      <th>source_type</th>\n",
       "      <th>target</th>\n",
       "      <th>song_length</th>\n",
       "      <th>artist_name</th>\n",
       "      <th>composer</th>\n",
       "      <th>language</th>\n",
       "      <th>name</th>\n",
       "      <th>genre</th>\n",
       "      <th>...</th>\n",
       "      <th>808</th>\n",
       "      <th>1117</th>\n",
       "      <th>1162</th>\n",
       "      <th>2144</th>\n",
       "      <th>2127</th>\n",
       "      <th>95</th>\n",
       "      <th>2008</th>\n",
       "      <th>1266</th>\n",
       "      <th>1110</th>\n",
       "      <th>2065</th>\n",
       "    </tr>\n",
       "  </thead>\n",
       "  <tbody>\n",
       "    <tr>\n",
       "      <td>0</td>\n",
       "      <td>FGtllVqz18RPiwJj/edr2gV78zirAiY/9SmYvia+kCg=</td>\n",
       "      <td>BBzumQNXUHKdEBOB7mAJuzok+IJA1c2Ryg/yzTF6tik=</td>\n",
       "      <td>online-playlist</td>\n",
       "      <td>1</td>\n",
       "      <td>206471.0</td>\n",
       "      <td>Bastille</td>\n",
       "      <td>Dan Smith</td>\n",
       "      <td>52.0</td>\n",
       "      <td>Good Grief</td>\n",
       "      <td>359</td>\n",
       "      <td>...</td>\n",
       "      <td>0.0</td>\n",
       "      <td>0.0</td>\n",
       "      <td>0.0</td>\n",
       "      <td>0.0</td>\n",
       "      <td>0.0</td>\n",
       "      <td>0.0</td>\n",
       "      <td>0.0</td>\n",
       "      <td>0.0</td>\n",
       "      <td>0.0</td>\n",
       "      <td>0.0</td>\n",
       "    </tr>\n",
       "    <tr>\n",
       "      <td>1</td>\n",
       "      <td>Xumu+NIjS6QYVxDS4/t3SawvJ7viT9hPKXmf0RtLNx8=</td>\n",
       "      <td>bhp/MpSNoqoxOIB+/l8WPqu6jldth4DIpCm3ayXnJqM=</td>\n",
       "      <td>local-playlist</td>\n",
       "      <td>1</td>\n",
       "      <td>284584.0</td>\n",
       "      <td>Various Artists</td>\n",
       "      <td>-</td>\n",
       "      <td>52.0</td>\n",
       "      <td>Lords of Cardboard</td>\n",
       "      <td>1259</td>\n",
       "      <td>...</td>\n",
       "      <td>0.0</td>\n",
       "      <td>0.0</td>\n",
       "      <td>0.0</td>\n",
       "      <td>0.0</td>\n",
       "      <td>0.0</td>\n",
       "      <td>0.0</td>\n",
       "      <td>0.0</td>\n",
       "      <td>0.0</td>\n",
       "      <td>0.0</td>\n",
       "      <td>0.0</td>\n",
       "    </tr>\n",
       "  </tbody>\n",
       "</table>\n",
       "<p>2 rows × 159 columns</p>\n",
       "</div>"
      ],
      "text/plain": [
       "                                           msno  \\\n",
       "0  FGtllVqz18RPiwJj/edr2gV78zirAiY/9SmYvia+kCg=   \n",
       "1  Xumu+NIjS6QYVxDS4/t3SawvJ7viT9hPKXmf0RtLNx8=   \n",
       "\n",
       "                                        song_id      source_type  target  \\\n",
       "0  BBzumQNXUHKdEBOB7mAJuzok+IJA1c2Ryg/yzTF6tik=  online-playlist       1   \n",
       "1  bhp/MpSNoqoxOIB+/l8WPqu6jldth4DIpCm3ayXnJqM=   local-playlist       1   \n",
       "\n",
       "   song_length      artist_name   composer language                name genre  \\\n",
       "0     206471.0         Bastille  Dan Smith     52.0          Good Grief   359   \n",
       "1     284584.0  Various Artists          -     52.0  Lords of Cardboard  1259   \n",
       "\n",
       "   ...  808 1117  1162 2144  2127   95 2008  1266  1110  2065  \n",
       "0  ...  0.0  0.0   0.0  0.0   0.0  0.0  0.0   0.0   0.0   0.0  \n",
       "1  ...  0.0  0.0   0.0  0.0   0.0  0.0  0.0   0.0   0.0   0.0  \n",
       "\n",
       "[2 rows x 159 columns]"
      ]
     },
     "execution_count": 53,
     "metadata": {},
     "output_type": "execute_result"
    }
   ],
   "source": [
    "df = df.merge(users, how='left')\n",
    "df.head(2)"
   ]
  },
  {
   "cell_type": "markdown",
   "metadata": {},
   "source": [
    "Поделим данные"
   ]
  },
  {
   "cell_type": "code",
   "execution_count": 9,
   "metadata": {},
   "outputs": [],
   "source": [
    "x = df.drop('target', axis=1)\n",
    "y = df['target']"
   ]
  },
  {
   "cell_type": "markdown",
   "metadata": {},
   "source": [
    "Не знаю, считается ли это за хороший тюнинг  \n",
    "Но catboost отлично автоматически настраивает гиперпараметры, если поставить побольше итераций "
   ]
  },
  {
   "cell_type": "code",
   "execution_count": 12,
   "metadata": {},
   "outputs": [
    {
     "name": "stdout",
     "output_type": "stream",
     "text": [
      "0:\tlearn: 0.4574468\ttotal: 18s\tremaining: 59m 39s\n",
      "1:\tlearn: 0.4398068\ttotal: 31.9s\tremaining: 52m 35s\n",
      "2:\tlearn: 0.4294481\ttotal: 46s\tremaining: 50m 23s\n",
      "3:\tlearn: 0.4250410\ttotal: 54.9s\tremaining: 44m 49s\n",
      "4:\tlearn: 0.4238004\ttotal: 1m 5s\tremaining: 42m 50s\n",
      "5:\tlearn: 0.4225890\ttotal: 1m 17s\tremaining: 41m 42s\n",
      "6:\tlearn: 0.4215635\ttotal: 1m 31s\tremaining: 42m 16s\n",
      "7:\tlearn: 0.4210788\ttotal: 1m 45s\tremaining: 42m\n",
      "8:\tlearn: 0.4200037\ttotal: 2m 2s\tremaining: 43m 15s\n",
      "9:\tlearn: 0.4195602\ttotal: 2m 14s\tremaining: 42m 30s\n",
      "10:\tlearn: 0.4192450\ttotal: 2m 26s\tremaining: 42m\n",
      "11:\tlearn: 0.4185825\ttotal: 2m 42s\tremaining: 42m 26s\n",
      "12:\tlearn: 0.4181370\ttotal: 2m 56s\tremaining: 42m 13s\n",
      "13:\tlearn: 0.4177858\ttotal: 3m 9s\tremaining: 41m 52s\n",
      "14:\tlearn: 0.4173301\ttotal: 3m 20s\tremaining: 41m 7s\n",
      "15:\tlearn: 0.4169704\ttotal: 3m 32s\tremaining: 40m 46s\n",
      "16:\tlearn: 0.4167169\ttotal: 3m 46s\tremaining: 40m 40s\n",
      "17:\tlearn: 0.4165582\ttotal: 3m 57s\tremaining: 39m 58s\n",
      "18:\tlearn: 0.4162732\ttotal: 4m 8s\tremaining: 39m 25s\n",
      "19:\tlearn: 0.4158633\ttotal: 4m 24s\tremaining: 39m 38s\n",
      "20:\tlearn: 0.4156049\ttotal: 4m 37s\tremaining: 39m 28s\n",
      "21:\tlearn: 0.4153349\ttotal: 4m 48s\tremaining: 38m 54s\n",
      "22:\tlearn: 0.4151648\ttotal: 5m 1s\tremaining: 38m 41s\n",
      "23:\tlearn: 0.4149313\ttotal: 5m 14s\tremaining: 38m 29s\n",
      "24:\tlearn: 0.4146680\ttotal: 5m 27s\tremaining: 38m 10s\n",
      "25:\tlearn: 0.4145429\ttotal: 5m 39s\tremaining: 37m 50s\n",
      "26:\tlearn: 0.4144288\ttotal: 5m 49s\tremaining: 37m 19s\n",
      "27:\tlearn: 0.4143081\ttotal: 6m\tremaining: 36m 54s\n",
      "28:\tlearn: 0.4141542\ttotal: 6m 10s\tremaining: 36m 25s\n",
      "29:\tlearn: 0.4140080\ttotal: 6m 24s\tremaining: 36m 16s\n",
      "30:\tlearn: 0.4139482\ttotal: 6m 33s\tremaining: 35m 47s\n",
      "31:\tlearn: 0.4137972\ttotal: 6m 53s\tremaining: 36m 8s\n",
      "32:\tlearn: 0.4136785\ttotal: 7m 4s\tremaining: 35m 46s\n",
      "33:\tlearn: 0.4135688\ttotal: 7m 16s\tremaining: 35m 30s\n",
      "34:\tlearn: 0.4134888\ttotal: 7m 30s\tremaining: 35m 23s\n",
      "35:\tlearn: 0.4133881\ttotal: 7m 42s\tremaining: 35m 8s\n",
      "36:\tlearn: 0.4133080\ttotal: 7m 55s\tremaining: 34m 53s\n",
      "37:\tlearn: 0.4131978\ttotal: 8m 5s\tremaining: 34m 27s\n",
      "38:\tlearn: 0.4130799\ttotal: 8m 15s\tremaining: 34m 5s\n",
      "39:\tlearn: 0.4128961\ttotal: 8m 30s\tremaining: 34m\n",
      "40:\tlearn: 0.4127902\ttotal: 8m 43s\tremaining: 33m 50s\n",
      "41:\tlearn: 0.4127243\ttotal: 9m 2s\tremaining: 34m 1s\n",
      "42:\tlearn: 0.4126611\ttotal: 9m 12s\tremaining: 33m 37s\n",
      "43:\tlearn: 0.4125096\ttotal: 9m 31s\tremaining: 33m 45s\n",
      "44:\tlearn: 0.4123938\ttotal: 9m 48s\tremaining: 33m 48s\n",
      "45:\tlearn: 0.4123139\ttotal: 9m 59s\tremaining: 33m 27s\n",
      "46:\tlearn: 0.4122444\ttotal: 10m 8s\tremaining: 33m 1s\n",
      "47:\tlearn: 0.4121278\ttotal: 10m 22s\tremaining: 32m 50s\n",
      "48:\tlearn: 0.4120524\ttotal: 10m 33s\tremaining: 32m 32s\n",
      "49:\tlearn: 0.4119305\ttotal: 10m 44s\tremaining: 32m 14s\n",
      "50:\tlearn: 0.4118600\ttotal: 10m 57s\tremaining: 32m 1s\n",
      "51:\tlearn: 0.4117700\ttotal: 11m 9s\tremaining: 31m 45s\n",
      "52:\tlearn: 0.4116973\ttotal: 11m 21s\tremaining: 31m 30s\n",
      "53:\tlearn: 0.4116169\ttotal: 11m 36s\tremaining: 31m 23s\n",
      "54:\tlearn: 0.4115205\ttotal: 11m 48s\tremaining: 31m 7s\n",
      "55:\tlearn: 0.4113981\ttotal: 12m 2s\tremaining: 30m 56s\n",
      "56:\tlearn: 0.4113273\ttotal: 12m 19s\tremaining: 30m 55s\n",
      "57:\tlearn: 0.4112215\ttotal: 12m 26s\tremaining: 30m 27s\n",
      "58:\tlearn: 0.4111633\ttotal: 12m 43s\tremaining: 30m 24s\n",
      "59:\tlearn: 0.4110814\ttotal: 12m 55s\tremaining: 30m 9s\n",
      "60:\tlearn: 0.4109978\ttotal: 13m 8s\tremaining: 29m 56s\n",
      "61:\tlearn: 0.4109404\ttotal: 13m 24s\tremaining: 29m 49s\n",
      "62:\tlearn: 0.4108967\ttotal: 13m 36s\tremaining: 29m 36s\n",
      "63:\tlearn: 0.4108251\ttotal: 13m 45s\tremaining: 29m 14s\n",
      "64:\tlearn: 0.4107372\ttotal: 14m\tremaining: 29m 6s\n",
      "65:\tlearn: 0.4106726\ttotal: 14m 13s\tremaining: 28m 52s\n",
      "66:\tlearn: 0.4105831\ttotal: 14m 26s\tremaining: 28m 39s\n",
      "67:\tlearn: 0.4105060\ttotal: 14m 45s\tremaining: 28m 38s\n",
      "68:\tlearn: 0.4103993\ttotal: 14m 56s\tremaining: 28m 21s\n",
      "69:\tlearn: 0.4103346\ttotal: 15m 10s\tremaining: 28m 11s\n",
      "70:\tlearn: 0.4102398\ttotal: 15m 20s\tremaining: 27m 52s\n",
      "71:\tlearn: 0.4101791\ttotal: 15m 33s\tremaining: 27m 39s\n",
      "72:\tlearn: 0.4101214\ttotal: 15m 51s\tremaining: 27m 34s\n",
      "73:\tlearn: 0.4100821\ttotal: 16m 2s\tremaining: 27m 19s\n",
      "74:\tlearn: 0.4100317\ttotal: 16m 16s\tremaining: 27m 6s\n",
      "75:\tlearn: 0.4099608\ttotal: 16m 24s\tremaining: 26m 45s\n",
      "76:\tlearn: 0.4099232\ttotal: 16m 34s\tremaining: 26m 28s\n",
      "77:\tlearn: 0.4098714\ttotal: 16m 46s\tremaining: 26m 14s\n",
      "78:\tlearn: 0.4097694\ttotal: 16m 59s\tremaining: 26m 1s\n",
      "79:\tlearn: 0.4097194\ttotal: 17m 12s\tremaining: 25m 48s\n",
      "80:\tlearn: 0.4096674\ttotal: 17m 23s\tremaining: 25m 32s\n",
      "81:\tlearn: 0.4096236\ttotal: 17m 35s\tremaining: 25m 19s\n",
      "82:\tlearn: 0.4095855\ttotal: 17m 49s\tremaining: 25m 6s\n",
      "83:\tlearn: 0.4094835\ttotal: 17m 58s\tremaining: 24m 49s\n",
      "84:\tlearn: 0.4094419\ttotal: 18m 8s\tremaining: 24m 32s\n",
      "85:\tlearn: 0.4093613\ttotal: 18m 20s\tremaining: 24m 19s\n",
      "86:\tlearn: 0.4093118\ttotal: 18m 34s\tremaining: 24m 7s\n",
      "87:\tlearn: 0.4092503\ttotal: 18m 52s\tremaining: 24m 1s\n",
      "88:\tlearn: 0.4092199\ttotal: 19m 5s\tremaining: 23m 48s\n",
      "89:\tlearn: 0.4091689\ttotal: 19m 20s\tremaining: 23m 37s\n",
      "90:\tlearn: 0.4091421\ttotal: 19m 32s\tremaining: 23m 24s\n",
      "91:\tlearn: 0.4091034\ttotal: 19m 44s\tremaining: 23m 10s\n",
      "92:\tlearn: 0.4090648\ttotal: 19m 54s\tremaining: 22m 54s\n",
      "93:\tlearn: 0.4090340\ttotal: 20m 5s\tremaining: 22m 39s\n",
      "94:\tlearn: 0.4090005\ttotal: 20m 21s\tremaining: 22m 29s\n",
      "95:\tlearn: 0.4088729\ttotal: 20m 33s\tremaining: 22m 16s\n",
      "96:\tlearn: 0.4088316\ttotal: 20m 46s\tremaining: 22m 3s\n",
      "97:\tlearn: 0.4087997\ttotal: 20m 59s\tremaining: 21m 50s\n",
      "98:\tlearn: 0.4087492\ttotal: 21m 6s\tremaining: 21m 32s\n",
      "99:\tlearn: 0.4087046\ttotal: 21m 17s\tremaining: 21m 17s\n",
      "100:\tlearn: 0.4086662\ttotal: 21m 27s\tremaining: 21m 2s\n",
      "101:\tlearn: 0.4086311\ttotal: 21m 47s\tremaining: 20m 56s\n",
      "102:\tlearn: 0.4085873\ttotal: 22m 1s\tremaining: 20m 44s\n",
      "103:\tlearn: 0.4085353\ttotal: 22m 10s\tremaining: 20m 28s\n",
      "104:\tlearn: 0.4085060\ttotal: 22m 27s\tremaining: 20m 19s\n",
      "105:\tlearn: 0.4084546\ttotal: 22m 40s\tremaining: 20m 6s\n",
      "106:\tlearn: 0.4084215\ttotal: 22m 52s\tremaining: 19m 53s\n",
      "107:\tlearn: 0.4083838\ttotal: 23m 5s\tremaining: 19m 40s\n",
      "108:\tlearn: 0.4083499\ttotal: 23m 17s\tremaining: 19m 26s\n",
      "109:\tlearn: 0.4083069\ttotal: 23m 32s\tremaining: 19m 15s\n",
      "110:\tlearn: 0.4082737\ttotal: 23m 45s\tremaining: 19m 2s\n",
      "111:\tlearn: 0.4082343\ttotal: 23m 58s\tremaining: 18m 50s\n",
      "112:\tlearn: 0.4082117\ttotal: 24m 10s\tremaining: 18m 36s\n",
      "113:\tlearn: 0.4081738\ttotal: 24m 22s\tremaining: 18m 23s\n",
      "114:\tlearn: 0.4081375\ttotal: 24m 34s\tremaining: 18m 9s\n",
      "115:\tlearn: 0.4080922\ttotal: 24m 44s\tremaining: 17m 55s\n",
      "116:\tlearn: 0.4080661\ttotal: 24m 56s\tremaining: 17m 41s\n",
      "117:\tlearn: 0.4080303\ttotal: 25m 6s\tremaining: 17m 27s\n",
      "118:\tlearn: 0.4079774\ttotal: 25m 17s\tremaining: 17m 13s\n",
      "119:\tlearn: 0.4079581\ttotal: 25m 28s\tremaining: 16m 59s\n",
      "120:\tlearn: 0.4079056\ttotal: 25m 45s\tremaining: 16m 48s\n",
      "121:\tlearn: 0.4078626\ttotal: 25m 56s\tremaining: 16m 35s\n",
      "122:\tlearn: 0.4078295\ttotal: 26m 14s\tremaining: 16m 25s\n",
      "123:\tlearn: 0.4077917\ttotal: 26m 25s\tremaining: 16m 11s\n",
      "124:\tlearn: 0.4077661\ttotal: 26m 36s\tremaining: 15m 57s\n",
      "125:\tlearn: 0.4077379\ttotal: 26m 48s\tremaining: 15m 44s\n",
      "126:\tlearn: 0.4076979\ttotal: 27m 2s\tremaining: 15m 32s\n",
      "127:\tlearn: 0.4076679\ttotal: 27m 12s\tremaining: 15m 18s\n",
      "128:\tlearn: 0.4076211\ttotal: 27m 27s\tremaining: 15m 6s\n",
      "129:\tlearn: 0.4075934\ttotal: 27m 37s\tremaining: 14m 52s\n",
      "130:\tlearn: 0.4075781\ttotal: 27m 47s\tremaining: 14m 38s\n",
      "131:\tlearn: 0.4075608\ttotal: 28m 3s\tremaining: 14m 27s\n",
      "132:\tlearn: 0.4075495\ttotal: 28m 16s\tremaining: 14m 14s\n",
      "133:\tlearn: 0.4075285\ttotal: 28m 34s\tremaining: 14m 4s\n",
      "134:\tlearn: 0.4074805\ttotal: 28m 45s\tremaining: 13m 50s\n",
      "135:\tlearn: 0.4074176\ttotal: 28m 57s\tremaining: 13m 37s\n",
      "136:\tlearn: 0.4073962\ttotal: 29m 10s\tremaining: 13m 24s\n",
      "137:\tlearn: 0.4073792\ttotal: 29m 19s\tremaining: 13m 10s\n",
      "138:\tlearn: 0.4073025\ttotal: 29m 29s\tremaining: 12m 56s\n",
      "139:\tlearn: 0.4072572\ttotal: 29m 43s\tremaining: 12m 44s\n",
      "140:\tlearn: 0.4072363\ttotal: 29m 56s\tremaining: 12m 31s\n",
      "141:\tlearn: 0.4071999\ttotal: 30m 9s\tremaining: 12m 19s\n",
      "142:\tlearn: 0.4071617\ttotal: 30m 22s\tremaining: 12m 6s\n",
      "143:\tlearn: 0.4071317\ttotal: 30m 33s\tremaining: 11m 53s\n",
      "144:\tlearn: 0.4071114\ttotal: 30m 47s\tremaining: 11m 40s\n",
      "145:\tlearn: 0.4070851\ttotal: 31m\tremaining: 11m 28s\n",
      "146:\tlearn: 0.4070697\ttotal: 31m 12s\tremaining: 11m 15s\n",
      "147:\tlearn: 0.4070429\ttotal: 31m 24s\tremaining: 11m 2s\n",
      "148:\tlearn: 0.4070311\ttotal: 31m 37s\tremaining: 10m 49s\n",
      "149:\tlearn: 0.4069852\ttotal: 31m 50s\tremaining: 10m 36s\n",
      "150:\tlearn: 0.4069473\ttotal: 32m 10s\tremaining: 10m 26s\n"
     ]
    },
    {
     "name": "stdout",
     "output_type": "stream",
     "text": [
      "151:\tlearn: 0.4069323\ttotal: 32m 24s\tremaining: 10m 14s\n",
      "152:\tlearn: 0.4069063\ttotal: 32m 35s\tremaining: 10m\n",
      "153:\tlearn: 0.4068794\ttotal: 32m 47s\tremaining: 9m 47s\n",
      "154:\tlearn: 0.4068681\ttotal: 32m 59s\tremaining: 9m 34s\n",
      "155:\tlearn: 0.4068483\ttotal: 33m 9s\tremaining: 9m 21s\n",
      "156:\tlearn: 0.4068265\ttotal: 33m 23s\tremaining: 9m 8s\n",
      "157:\tlearn: 0.4067448\ttotal: 33m 34s\tremaining: 8m 55s\n",
      "158:\tlearn: 0.4067170\ttotal: 33m 46s\tremaining: 8m 42s\n",
      "159:\tlearn: 0.4066661\ttotal: 33m 57s\tremaining: 8m 29s\n",
      "160:\tlearn: 0.4066420\ttotal: 34m 6s\tremaining: 8m 15s\n",
      "161:\tlearn: 0.4066087\ttotal: 34m 19s\tremaining: 8m 3s\n",
      "162:\tlearn: 0.4065858\ttotal: 34m 29s\tremaining: 7m 49s\n",
      "163:\tlearn: 0.4065410\ttotal: 34m 40s\tremaining: 7m 36s\n",
      "164:\tlearn: 0.4065274\ttotal: 34m 52s\tremaining: 7m 23s\n",
      "165:\tlearn: 0.4065090\ttotal: 35m 6s\tremaining: 7m 11s\n",
      "166:\tlearn: 0.4064820\ttotal: 35m 18s\tremaining: 6m 58s\n",
      "167:\tlearn: 0.4064282\ttotal: 35m 28s\tremaining: 6m 45s\n",
      "168:\tlearn: 0.4063904\ttotal: 35m 40s\tremaining: 6m 32s\n",
      "169:\tlearn: 0.4063563\ttotal: 35m 49s\tremaining: 6m 19s\n",
      "170:\tlearn: 0.4063287\ttotal: 36m 3s\tremaining: 6m 6s\n",
      "171:\tlearn: 0.4063087\ttotal: 36m 16s\tremaining: 5m 54s\n",
      "172:\tlearn: 0.4063009\ttotal: 36m 27s\tremaining: 5m 41s\n",
      "173:\tlearn: 0.4062876\ttotal: 36m 37s\tremaining: 5m 28s\n",
      "174:\tlearn: 0.4062744\ttotal: 36m 48s\tremaining: 5m 15s\n",
      "175:\tlearn: 0.4062640\ttotal: 36m 58s\tremaining: 5m 2s\n",
      "176:\tlearn: 0.4062332\ttotal: 37m 12s\tremaining: 4m 50s\n",
      "177:\tlearn: 0.4062207\ttotal: 37m 25s\tremaining: 4m 37s\n",
      "178:\tlearn: 0.4062081\ttotal: 37m 38s\tremaining: 4m 24s\n",
      "179:\tlearn: 0.4061837\ttotal: 37m 50s\tremaining: 4m 12s\n",
      "180:\tlearn: 0.4061550\ttotal: 38m 1s\tremaining: 3m 59s\n",
      "181:\tlearn: 0.4061350\ttotal: 38m 19s\tremaining: 3m 47s\n",
      "182:\tlearn: 0.4061108\ttotal: 38m 31s\tremaining: 3m 34s\n",
      "183:\tlearn: 0.4060839\ttotal: 38m 44s\tremaining: 3m 22s\n",
      "184:\tlearn: 0.4060623\ttotal: 39m 2s\tremaining: 3m 9s\n",
      "185:\tlearn: 0.4060506\ttotal: 39m 15s\tremaining: 2m 57s\n",
      "186:\tlearn: 0.4060102\ttotal: 39m 25s\tremaining: 2m 44s\n",
      "187:\tlearn: 0.4059804\ttotal: 39m 42s\tremaining: 2m 32s\n",
      "188:\tlearn: 0.4059410\ttotal: 39m 54s\tremaining: 2m 19s\n",
      "189:\tlearn: 0.4059216\ttotal: 40m 8s\tremaining: 2m 6s\n",
      "190:\tlearn: 0.4058869\ttotal: 40m 18s\tremaining: 1m 53s\n",
      "191:\tlearn: 0.4058654\ttotal: 40m 30s\tremaining: 1m 41s\n",
      "192:\tlearn: 0.4058309\ttotal: 40m 42s\tremaining: 1m 28s\n",
      "193:\tlearn: 0.4058061\ttotal: 40m 52s\tremaining: 1m 15s\n",
      "194:\tlearn: 0.4057939\ttotal: 41m 5s\tremaining: 1m 3s\n",
      "195:\tlearn: 0.4057785\ttotal: 41m 19s\tremaining: 50.6s\n",
      "196:\tlearn: 0.4057668\ttotal: 41m 29s\tremaining: 37.9s\n",
      "197:\tlearn: 0.4057169\ttotal: 41m 41s\tremaining: 25.3s\n",
      "198:\tlearn: 0.4057041\ttotal: 41m 54s\tremaining: 12.6s\n",
      "199:\tlearn: 0.4056922\ttotal: 42m 4s\tremaining: 0us\n",
      "Wall time: 58min 16s\n"
     ]
    }
   ],
   "source": [
    "%%time\n",
    "gbdt = cross_validate(CatBoostRegressor(iterations=200\n",
    "                        , learning_rate=0.5\n",
    "                        , task_type=\"CPU\"\n",
    "                        , custom_metric=['AUC:hints=skip_train~false']\n",
    "                        , cat_features=['msno','song_id','source_type','genre','artist_name','composer'\n",
    "                                        ,'language','name','country','city','bd','gender','label'])\n",
    "                    , x, y, cv=ShuffleSplit(n_splits=1, test_size=0.2)\n",
    "                    , return_estimator=True,return_train_score=True, scoring=\"roc_auc\")"
   ]
  },
  {
   "cell_type": "code",
   "execution_count": 13,
   "metadata": {
    "scrolled": true
   },
   "outputs": [
    {
     "data": {
      "text/plain": [
       "{'fit_time': array([2793.96203351]),\n",
       " 'score_time': array([462.37457943]),\n",
       " 'estimator': (<catboost.core.CatBoostRegressor at 0x1fdc095ef48>,),\n",
       " 'test_score': array([0.8531347]),\n",
       " 'train_score': array([0.93453449])}"
      ]
     },
     "execution_count": 13,
     "metadata": {},
     "output_type": "execute_result"
    }
   ],
   "source": [
    "gbdt"
   ]
  },
  {
   "cell_type": "markdown",
   "metadata": {},
   "source": [
    "Немного переобучились, но результаты отличные  \n",
    "train - 0.93  \n",
    "test  &nbsp;- 0.85  "
   ]
  },
  {
   "cell_type": "markdown",
   "metadata": {},
   "source": [
    "#### Пользуясь информацией о треках построить неклассические эмбеддинги и попробовать использовать их:"
   ]
  },
  {
   "cell_type": "markdown",
   "metadata": {},
   "source": [
    "#### а) показать симилары глазами"
   ]
  },
  {
   "cell_type": "markdown",
   "metadata": {},
   "source": [
    "Поделим данные"
   ]
  },
  {
   "cell_type": "code",
   "execution_count": 15,
   "metadata": {},
   "outputs": [],
   "source": [
    "train = df[df['target'] == 1].head(int(len(df) * 0.8))\n",
    "test = df.tail(int(len(df) * 0.2))"
   ]
  },
  {
   "cell_type": "markdown",
   "metadata": {},
   "source": [
    "Для w2v посчитаем контексты - что лайкал юзер"
   ]
  },
  {
   "cell_type": "code",
   "execution_count": 62,
   "metadata": {},
   "outputs": [],
   "source": [
    "contexts = defaultdict(list)\n",
    "\n",
    "for msno, song_id in train[['msno', 'song_id']].sort_values(by='msno').to_numpy():\n",
    "    contexts[msno].append(song_id)"
   ]
  },
  {
   "cell_type": "code",
   "execution_count": 37,
   "metadata": {},
   "outputs": [
    {
     "name": "stdout",
     "output_type": "stream",
     "text": [
      "Wall time: 1min 5s\n"
     ]
    }
   ],
   "source": [
    "%%time\n",
    "w2v = Word2Vec(contexts.values(), window=10, sg=1, hs=0, vector_size=70, workers=8\n",
    "               , negative=5, alpha=0.03, min_alpha=0.0007, min_count=10)"
   ]
  },
  {
   "cell_type": "markdown",
   "metadata": {},
   "source": [
    "Мою музыку не слушают, поэтому будем смотреть на симиларов Lady Gaga"
   ]
  },
  {
   "cell_type": "code",
   "execution_count": 71,
   "metadata": {
    "scrolled": true
   },
   "outputs": [
    {
     "name": "stdout",
     "output_type": "stream",
     "text": [
      "Lady Gaga\n",
      "Sia\n",
      "P!nk\n",
      "Shawn Mendes\n",
      "Lukas Graham\n",
      "gnash\n",
      "Bruno Mars\n",
      "Sia\n",
      "Colbie Caillat\n",
      "The Chainsmokers\n"
     ]
    }
   ],
   "source": [
    "def artists_of_similar_songs(w2v, song_id):\n",
    "    idx = w2v.wv.key_to_index[song_id]\n",
    "    similars = w2v.wv.most_similar(idx)\n",
    "    for sim, _ in similars:\n",
    "        print(songs[songs['song_id'] == sim]['artist_name'].tolist()[0])\n",
    "\n",
    "lady_gaga_song_id = 'eW1d3l1sSncU4sGM69MJtIG79wnXbdy8FZKpFVElS0g='        \n",
    "artists_of_similar_songs(w2v, lady_gaga_song_id)"
   ]
  },
  {
   "cell_type": "markdown",
   "metadata": {},
   "source": [
    "Симилары не слишком радуют, так как всего одна песня того же исполнителя (это не та же самая песня)"
   ]
  },
  {
   "cell_type": "markdown",
   "metadata": {},
   "source": [
    "#### б) в качестве рекоммендера вместо GBDT (разницу в метриках) "
   ]
  },
  {
   "cell_type": "markdown",
   "metadata": {},
   "source": [
    "Будем считать user embedding как среднее песен, которые ему нравятся  \n",
    "Если для песни нет эмбеддинга, можно взять нулевой вектор, либо среднее по всем эмбеддингам (других идей нет)  \n",
    "Я возьму нулевой, так как среднее по всем - это что-то около попсы, а если песню почти не слушали, то это вряд ли попса "
   ]
  },
  {
   "cell_type": "code",
   "execution_count": 72,
   "metadata": {},
   "outputs": [
    {
     "name": "stdout",
     "output_type": "stream",
     "text": [
      "Wall time: 7.4 s\n"
     ]
    }
   ],
   "source": [
    "%%time\n",
    "\n",
    "user_embeddings = {}\n",
    "\n",
    "for msno, song_ids in contexts.items():\n",
    "    song_embeddings = []\n",
    "    for song_id in song_ids:\n",
    "        if song_id in w2v.wv.key_to_index.keys():\n",
    "            song_embeddings.append(w2v.wv[song_id])\n",
    "        else:\n",
    "            song_embeddings.append(np.zeros(70))\n",
    "    song_embeddings = np.asarray(song_embeddings)\n",
    "    user_embeddings[msno] = song_embeddings.mean(axis=0) "
   ]
  },
  {
   "cell_type": "markdown",
   "metadata": {},
   "source": [
    "Добавим к датасету колонку сходства юзера и песни"
   ]
  },
  {
   "cell_type": "code",
   "execution_count": 145,
   "metadata": {},
   "outputs": [],
   "source": [
    "%%time\n",
    "\n",
    "similarities = []\n",
    "i = 0\n",
    "for msno, song_id in df[['msno', 'song_id']].to_numpy():\n",
    "    user_emb = user_embeddings.get(msno, np.zeros(70))\n",
    "    if song_id in w2v.wv.key_to_index.keys():\n",
    "        song_emb = w2v.wv[song_id]\n",
    "    else:\n",
    "        song_emb = np.zeros(70)\n",
    "    \n",
    "    similarities.append(1 - sp.distance.cosine(user_emb, song_emb))\n",
    "    \n",
    "df['sim'] = similarities"
   ]
  },
  {
   "cell_type": "code",
   "execution_count": 146,
   "metadata": {},
   "outputs": [
    {
     "data": {
      "text/plain": [
       "0.15715898902507128"
      ]
     },
     "execution_count": 146,
     "metadata": {},
     "output_type": "execute_result"
    }
   ],
   "source": [
    "df['sim'].isnull().mean()"
   ]
  },
  {
   "cell_type": "markdown",
   "metadata": {},
   "source": [
    "Так как я решил заменять отсутсвующий эмбединг нулевым вектором, в датасете появились Nan'ы "
   ]
  },
  {
   "cell_type": "markdown",
   "metadata": {},
   "source": [
    "Заменим их на 0.5"
   ]
  },
  {
   "cell_type": "code",
   "execution_count": 152,
   "metadata": {},
   "outputs": [],
   "source": [
    "df['sim'] = df['sim'].fillna(0.5)"
   ]
  },
  {
   "cell_type": "markdown",
   "metadata": {},
   "source": [
    "И, наконец, результаты"
   ]
  },
  {
   "cell_type": "code",
   "execution_count": 156,
   "metadata": {},
   "outputs": [
    {
     "data": {
      "text/plain": [
       "(0.6727499595527212, 0.6614018344277947)"
      ]
     },
     "execution_count": 156,
     "metadata": {},
     "output_type": "execute_result"
    }
   ],
   "source": [
    "train = df.head(int(len(df) * 0.8))\n",
    "test = df.tail(int(len(df) * 0.2))\n",
    "roc_auc_score(train['target'], train['sim']), roc_auc_score(test['target'], test['sim'])"
   ]
  },
  {
   "cell_type": "markdown",
   "metadata": {},
   "source": [
    "Слабее деревяшек, но они и учились в разы дольше  \n",
    "train - 0.67  \n",
    "test &nbsp;- 0.66"
   ]
  },
  {
   "cell_type": "markdown",
   "metadata": {},
   "source": [
    "#### в) стек с GBDT (прирост / отсутствие / почему (советую поизучать SHAP values)"
   ]
  },
  {
   "cell_type": "code",
   "execution_count": 157,
   "metadata": {},
   "outputs": [],
   "source": [
    "x = df.drop('target', axis=1)\n",
    "y = df['target']"
   ]
  },
  {
   "cell_type": "code",
   "execution_count": 159,
   "metadata": {},
   "outputs": [
    {
     "name": "stdout",
     "output_type": "stream",
     "text": [
      "0:\tlearn: 0.4513853\ttotal: 12.2s\tremaining: 40m 20s\n",
      "1:\tlearn: 0.4333015\ttotal: 25.8s\tremaining: 42m 38s\n",
      "2:\tlearn: 0.4242601\ttotal: 39.4s\tremaining: 43m 7s\n",
      "3:\tlearn: 0.4207625\ttotal: 51.9s\tremaining: 42m 20s\n",
      "4:\tlearn: 0.4189985\ttotal: 1m 4s\tremaining: 41m 42s\n",
      "5:\tlearn: 0.4180029\ttotal: 1m 18s\tremaining: 42m 15s\n",
      "6:\tlearn: 0.4159098\ttotal: 1m 29s\tremaining: 41m 4s\n",
      "7:\tlearn: 0.4144353\ttotal: 1m 45s\tremaining: 42m 4s\n",
      "8:\tlearn: 0.4139456\ttotal: 1m 56s\tremaining: 41m 12s\n",
      "9:\tlearn: 0.4131914\ttotal: 2m 15s\tremaining: 43m 2s\n",
      "10:\tlearn: 0.4119285\ttotal: 2m 28s\tremaining: 42m 39s\n",
      "11:\tlearn: 0.4116021\ttotal: 2m 39s\tremaining: 41m 39s\n",
      "12:\tlearn: 0.4110713\ttotal: 2m 55s\tremaining: 41m 58s\n",
      "13:\tlearn: 0.4107800\ttotal: 3m 6s\tremaining: 41m 19s\n",
      "14:\tlearn: 0.4102599\ttotal: 3m 21s\tremaining: 41m 23s\n",
      "15:\tlearn: 0.4099392\ttotal: 3m 31s\tremaining: 40m 33s\n",
      "16:\tlearn: 0.4095937\ttotal: 3m 41s\tremaining: 39m 42s\n",
      "17:\tlearn: 0.4093238\ttotal: 3m 53s\tremaining: 39m 20s\n",
      "18:\tlearn: 0.4089092\ttotal: 4m 8s\tremaining: 39m 26s\n",
      "19:\tlearn: 0.4086264\ttotal: 4m 21s\tremaining: 39m 16s\n",
      "20:\tlearn: 0.4084382\ttotal: 4m 34s\tremaining: 38m 56s\n",
      "21:\tlearn: 0.4082951\ttotal: 4m 43s\tremaining: 38m 13s\n",
      "22:\tlearn: 0.4081150\ttotal: 4m 56s\tremaining: 38m 3s\n",
      "23:\tlearn: 0.4079411\ttotal: 5m 8s\tremaining: 37m 43s\n",
      "24:\tlearn: 0.4078151\ttotal: 5m 22s\tremaining: 37m 34s\n",
      "25:\tlearn: 0.4076103\ttotal: 5m 35s\tremaining: 37m 23s\n",
      "26:\tlearn: 0.4074058\ttotal: 5m 50s\tremaining: 37m 26s\n",
      "27:\tlearn: 0.4071560\ttotal: 6m 3s\tremaining: 37m 14s\n",
      "28:\tlearn: 0.4070029\ttotal: 6m 15s\tremaining: 36m 53s\n",
      "29:\tlearn: 0.4069366\ttotal: 6m 26s\tremaining: 36m 32s\n",
      "30:\tlearn: 0.4067441\ttotal: 6m 44s\tremaining: 36m 43s\n",
      "31:\tlearn: 0.4065833\ttotal: 6m 55s\tremaining: 36m 20s\n",
      "32:\tlearn: 0.4064162\ttotal: 7m 6s\tremaining: 36m\n",
      "33:\tlearn: 0.4063371\ttotal: 7m 16s\tremaining: 35m 31s\n",
      "34:\tlearn: 0.4061946\ttotal: 7m 32s\tremaining: 35m 35s\n",
      "35:\tlearn: 0.4060371\ttotal: 7m 47s\tremaining: 35m 27s\n",
      "36:\tlearn: 0.4058995\ttotal: 7m 58s\tremaining: 35m 9s\n",
      "37:\tlearn: 0.4057944\ttotal: 8m 9s\tremaining: 34m 48s\n",
      "38:\tlearn: 0.4056881\ttotal: 8m 22s\tremaining: 34m 33s\n",
      "39:\tlearn: 0.4055412\ttotal: 8m 33s\tremaining: 34m 14s\n",
      "40:\tlearn: 0.4053519\ttotal: 8m 48s\tremaining: 34m 8s\n",
      "41:\tlearn: 0.4052433\ttotal: 9m 2s\tremaining: 34m 2s\n",
      "42:\tlearn: 0.4051165\ttotal: 9m 16s\tremaining: 33m 51s\n",
      "43:\tlearn: 0.4049755\ttotal: 9m 32s\tremaining: 33m 49s\n",
      "44:\tlearn: 0.4049216\ttotal: 9m 41s\tremaining: 33m 24s\n",
      "45:\tlearn: 0.4048421\ttotal: 9m 57s\tremaining: 33m 19s\n",
      "46:\tlearn: 0.4047413\ttotal: 10m 6s\tremaining: 32m 55s\n",
      "47:\tlearn: 0.4046612\ttotal: 10m 19s\tremaining: 32m 42s\n",
      "48:\tlearn: 0.4045899\ttotal: 10m 29s\tremaining: 32m 20s\n",
      "49:\tlearn: 0.4045324\ttotal: 10m 38s\tremaining: 31m 56s\n",
      "50:\tlearn: 0.4044615\ttotal: 10m 52s\tremaining: 31m 47s\n",
      "51:\tlearn: 0.4044077\ttotal: 11m 1s\tremaining: 31m 23s\n",
      "52:\tlearn: 0.4042940\ttotal: 11m 11s\tremaining: 31m 2s\n",
      "53:\tlearn: 0.4042547\ttotal: 11m 20s\tremaining: 30m 38s\n",
      "54:\tlearn: 0.4041868\ttotal: 11m 35s\tremaining: 30m 34s\n",
      "55:\tlearn: 0.4041514\ttotal: 11m 47s\tremaining: 30m 19s\n",
      "56:\tlearn: 0.4040084\ttotal: 12m 1s\tremaining: 30m 10s\n",
      "57:\tlearn: 0.4039181\ttotal: 12m 19s\tremaining: 30m 10s\n",
      "58:\tlearn: 0.4038455\ttotal: 12m 32s\tremaining: 29m 57s\n",
      "59:\tlearn: 0.4037803\ttotal: 12m 43s\tremaining: 29m 40s\n",
      "60:\tlearn: 0.4036892\ttotal: 12m 52s\tremaining: 29m 20s\n",
      "61:\tlearn: 0.4036242\ttotal: 13m 2s\tremaining: 29m\n",
      "62:\tlearn: 0.4035667\ttotal: 13m 14s\tremaining: 28m 48s\n",
      "63:\tlearn: 0.4034936\ttotal: 13m 26s\tremaining: 28m 33s\n",
      "64:\tlearn: 0.4034098\ttotal: 13m 39s\tremaining: 28m 21s\n",
      "65:\tlearn: 0.4033243\ttotal: 13m 52s\tremaining: 28m 10s\n",
      "66:\tlearn: 0.4032532\ttotal: 14m 9s\tremaining: 28m 7s\n",
      "67:\tlearn: 0.4031830\ttotal: 14m 24s\tremaining: 27m 57s\n",
      "68:\tlearn: 0.4030552\ttotal: 14m 40s\tremaining: 27m 52s\n",
      "69:\tlearn: 0.4029787\ttotal: 14m 54s\tremaining: 27m 40s\n",
      "70:\tlearn: 0.4028916\ttotal: 15m 5s\tremaining: 27m 25s\n",
      "71:\tlearn: 0.4028442\ttotal: 15m 18s\tremaining: 27m 13s\n",
      "72:\tlearn: 0.4028005\ttotal: 15m 32s\tremaining: 27m 1s\n",
      "73:\tlearn: 0.4027534\ttotal: 15m 44s\tremaining: 26m 48s\n",
      "74:\tlearn: 0.4027093\ttotal: 15m 56s\tremaining: 26m 33s\n",
      "75:\tlearn: 0.4026661\ttotal: 16m 6s\tremaining: 26m 16s\n",
      "76:\tlearn: 0.4026398\ttotal: 16m 18s\tremaining: 26m 3s\n",
      "77:\tlearn: 0.4025970\ttotal: 16m 37s\tremaining: 25m 59s\n",
      "78:\tlearn: 0.4025555\ttotal: 16m 51s\tremaining: 25m 48s\n",
      "79:\tlearn: 0.4025010\ttotal: 17m 3s\tremaining: 25m 35s\n",
      "80:\tlearn: 0.4024591\ttotal: 17m 17s\tremaining: 25m 23s\n",
      "81:\tlearn: 0.4024286\ttotal: 17m 28s\tremaining: 25m 9s\n",
      "82:\tlearn: 0.4023952\ttotal: 17m 40s\tremaining: 24m 55s\n",
      "83:\tlearn: 0.4023521\ttotal: 17m 54s\tremaining: 24m 44s\n",
      "84:\tlearn: 0.4023174\ttotal: 18m 4s\tremaining: 24m 27s\n",
      "85:\tlearn: 0.4023012\ttotal: 18m 15s\tremaining: 24m 12s\n",
      "86:\tlearn: 0.4022601\ttotal: 18m 28s\tremaining: 23m 59s\n",
      "87:\tlearn: 0.4022250\ttotal: 18m 39s\tremaining: 23m 44s\n",
      "88:\tlearn: 0.4021789\ttotal: 18m 52s\tremaining: 23m 32s\n",
      "89:\tlearn: 0.4021250\ttotal: 19m 9s\tremaining: 23m 24s\n",
      "90:\tlearn: 0.4020736\ttotal: 19m 24s\tremaining: 23m 14s\n",
      "91:\tlearn: 0.4019859\ttotal: 19m 34s\tremaining: 22m 58s\n",
      "92:\tlearn: 0.4019298\ttotal: 19m 45s\tremaining: 22m 43s\n",
      "93:\tlearn: 0.4018692\ttotal: 20m\tremaining: 22m 33s\n",
      "94:\tlearn: 0.4018304\ttotal: 20m 11s\tremaining: 22m 18s\n",
      "95:\tlearn: 0.4017716\ttotal: 20m 27s\tremaining: 22m 9s\n",
      "96:\tlearn: 0.4017539\ttotal: 20m 39s\tremaining: 21m 56s\n",
      "97:\tlearn: 0.4017008\ttotal: 20m 53s\tremaining: 21m 44s\n",
      "98:\tlearn: 0.4016596\ttotal: 21m 7s\tremaining: 21m 33s\n",
      "99:\tlearn: 0.4016199\ttotal: 21m 20s\tremaining: 21m 20s\n",
      "100:\tlearn: 0.4015842\ttotal: 21m 33s\tremaining: 21m 7s\n",
      "101:\tlearn: 0.4015305\ttotal: 21m 46s\tremaining: 20m 54s\n",
      "102:\tlearn: 0.4014791\ttotal: 22m 1s\tremaining: 20m 44s\n",
      "103:\tlearn: 0.4014363\ttotal: 22m 19s\tremaining: 20m 36s\n",
      "104:\tlearn: 0.4013757\ttotal: 22m 31s\tremaining: 20m 23s\n",
      "105:\tlearn: 0.4013529\ttotal: 22m 46s\tremaining: 20m 11s\n",
      "106:\tlearn: 0.4013184\ttotal: 22m 56s\tremaining: 19m 56s\n",
      "107:\tlearn: 0.4012885\ttotal: 23m 9s\tremaining: 19m 43s\n",
      "108:\tlearn: 0.4012610\ttotal: 23m 23s\tremaining: 19m 31s\n",
      "109:\tlearn: 0.4012361\ttotal: 23m 34s\tremaining: 19m 16s\n",
      "110:\tlearn: 0.4012012\ttotal: 23m 45s\tremaining: 19m 2s\n",
      "111:\tlearn: 0.4011619\ttotal: 23m 56s\tremaining: 18m 48s\n",
      "112:\tlearn: 0.4011302\ttotal: 24m 8s\tremaining: 18m 35s\n",
      "113:\tlearn: 0.4010877\ttotal: 24m 23s\tremaining: 18m 23s\n",
      "114:\tlearn: 0.4010682\ttotal: 24m 35s\tremaining: 18m 10s\n",
      "115:\tlearn: 0.4010202\ttotal: 24m 48s\tremaining: 17m 57s\n",
      "116:\tlearn: 0.4009854\ttotal: 25m\tremaining: 17m 44s\n",
      "117:\tlearn: 0.4009736\ttotal: 25m 10s\tremaining: 17m 29s\n",
      "118:\tlearn: 0.4009391\ttotal: 25m 24s\tremaining: 17m 17s\n",
      "119:\tlearn: 0.4008968\ttotal: 25m 35s\tremaining: 17m 3s\n",
      "120:\tlearn: 0.4008657\ttotal: 25m 45s\tremaining: 16m 49s\n",
      "121:\tlearn: 0.4008367\ttotal: 26m 2s\tremaining: 16m 38s\n",
      "122:\tlearn: 0.4008015\ttotal: 26m 12s\tremaining: 16m 24s\n",
      "123:\tlearn: 0.4007729\ttotal: 26m 29s\tremaining: 16m 13s\n",
      "124:\tlearn: 0.4007503\ttotal: 26m 40s\tremaining: 16m\n",
      "125:\tlearn: 0.4007207\ttotal: 26m 51s\tremaining: 15m 46s\n",
      "126:\tlearn: 0.4006940\ttotal: 27m 1s\tremaining: 15m 31s\n",
      "127:\tlearn: 0.4006370\ttotal: 27m 14s\tremaining: 15m 19s\n",
      "128:\tlearn: 0.4005925\ttotal: 27m 24s\tremaining: 15m 5s\n",
      "129:\tlearn: 0.4005761\ttotal: 27m 33s\tremaining: 14m 50s\n",
      "130:\tlearn: 0.4005533\ttotal: 27m 43s\tremaining: 14m 36s\n",
      "131:\tlearn: 0.4005276\ttotal: 27m 54s\tremaining: 14m 22s\n",
      "132:\tlearn: 0.4004972\ttotal: 28m 7s\tremaining: 14m 9s\n",
      "133:\tlearn: 0.4004656\ttotal: 28m 22s\tremaining: 13m 58s\n",
      "134:\tlearn: 0.4004494\ttotal: 28m 32s\tremaining: 13m 44s\n",
      "135:\tlearn: 0.4004313\ttotal: 28m 41s\tremaining: 13m 30s\n",
      "136:\tlearn: 0.4003995\ttotal: 28m 58s\tremaining: 13m 19s\n",
      "137:\tlearn: 0.4003806\ttotal: 29m 13s\tremaining: 13m 7s\n",
      "138:\tlearn: 0.4003544\ttotal: 29m 23s\tremaining: 12m 54s\n",
      "139:\tlearn: 0.4003254\ttotal: 29m 34s\tremaining: 12m 40s\n",
      "140:\tlearn: 0.4003049\ttotal: 29m 47s\tremaining: 12m 27s\n",
      "141:\tlearn: 0.4002843\ttotal: 29m 57s\tremaining: 12m 14s\n",
      "142:\tlearn: 0.4002637\ttotal: 30m 10s\tremaining: 12m 1s\n",
      "143:\tlearn: 0.4002442\ttotal: 30m 22s\tremaining: 11m 48s\n",
      "144:\tlearn: 0.4002164\ttotal: 30m 34s\tremaining: 11m 35s\n",
      "145:\tlearn: 0.4001920\ttotal: 30m 45s\tremaining: 11m 22s\n",
      "146:\tlearn: 0.4001529\ttotal: 30m 57s\tremaining: 11m 9s\n",
      "147:\tlearn: 0.4001335\ttotal: 31m 7s\tremaining: 10m 56s\n",
      "148:\tlearn: 0.4001122\ttotal: 31m 24s\tremaining: 10m 45s\n",
      "149:\tlearn: 0.4000767\ttotal: 31m 36s\tremaining: 10m 32s\n",
      "150:\tlearn: 0.4000461\ttotal: 31m 44s\tremaining: 10m 17s\n"
     ]
    },
    {
     "name": "stdout",
     "output_type": "stream",
     "text": [
      "151:\tlearn: 0.4000214\ttotal: 31m 56s\tremaining: 10m 5s\n",
      "152:\tlearn: 0.3999997\ttotal: 32m 7s\tremaining: 9m 52s\n",
      "153:\tlearn: 0.3999898\ttotal: 32m 18s\tremaining: 9m 39s\n",
      "154:\tlearn: 0.3999496\ttotal: 32m 32s\tremaining: 9m 26s\n",
      "155:\tlearn: 0.3999326\ttotal: 32m 43s\tremaining: 9m 13s\n",
      "156:\tlearn: 0.3999103\ttotal: 32m 57s\tremaining: 9m 1s\n",
      "157:\tlearn: 0.3998955\ttotal: 33m 7s\tremaining: 8m 48s\n",
      "158:\tlearn: 0.3998767\ttotal: 33m 21s\tremaining: 8m 36s\n",
      "159:\tlearn: 0.3998521\ttotal: 33m 39s\tremaining: 8m 24s\n",
      "160:\tlearn: 0.3998211\ttotal: 33m 51s\tremaining: 8m 12s\n",
      "161:\tlearn: 0.3998062\ttotal: 34m 6s\tremaining: 8m\n",
      "162:\tlearn: 0.3997613\ttotal: 34m 19s\tremaining: 7m 47s\n",
      "163:\tlearn: 0.3997246\ttotal: 34m 33s\tremaining: 7m 35s\n",
      "164:\tlearn: 0.3997037\ttotal: 34m 45s\tremaining: 7m 22s\n",
      "165:\tlearn: 0.3996252\ttotal: 34m 57s\tremaining: 7m 9s\n",
      "166:\tlearn: 0.3995912\ttotal: 35m 13s\tremaining: 6m 57s\n",
      "167:\tlearn: 0.3995729\ttotal: 35m 29s\tremaining: 6m 45s\n",
      "168:\tlearn: 0.3995480\ttotal: 35m 45s\tremaining: 6m 33s\n",
      "169:\tlearn: 0.3995211\ttotal: 35m 59s\tremaining: 6m 21s\n",
      "170:\tlearn: 0.3995051\ttotal: 36m 15s\tremaining: 6m 8s\n",
      "171:\tlearn: 0.3994734\ttotal: 36m 28s\tremaining: 5m 56s\n",
      "172:\tlearn: 0.3994505\ttotal: 36m 45s\tremaining: 5m 44s\n",
      "173:\tlearn: 0.3994172\ttotal: 36m 58s\tremaining: 5m 31s\n",
      "174:\tlearn: 0.3993869\ttotal: 37m 19s\tremaining: 5m 19s\n",
      "175:\tlearn: 0.3993560\ttotal: 37m 31s\tremaining: 5m 7s\n",
      "176:\tlearn: 0.3992737\ttotal: 37m 41s\tremaining: 4m 53s\n",
      "177:\tlearn: 0.3992617\ttotal: 37m 52s\tremaining: 4m 40s\n",
      "178:\tlearn: 0.3992439\ttotal: 38m 5s\tremaining: 4m 28s\n",
      "179:\tlearn: 0.3992164\ttotal: 38m 16s\tremaining: 4m 15s\n",
      "180:\tlearn: 0.3991917\ttotal: 38m 31s\tremaining: 4m 2s\n",
      "181:\tlearn: 0.3991756\ttotal: 38m 44s\tremaining: 3m 49s\n",
      "182:\tlearn: 0.3991425\ttotal: 39m 1s\tremaining: 3m 37s\n",
      "183:\tlearn: 0.3990984\ttotal: 39m 12s\tremaining: 3m 24s\n",
      "184:\tlearn: 0.3990823\ttotal: 39m 28s\tremaining: 3m 12s\n",
      "185:\tlearn: 0.3990510\ttotal: 39m 42s\tremaining: 2m 59s\n",
      "186:\tlearn: 0.3990362\ttotal: 39m 54s\tremaining: 2m 46s\n",
      "187:\tlearn: 0.3990164\ttotal: 40m 5s\tremaining: 2m 33s\n",
      "188:\tlearn: 0.3989788\ttotal: 40m 17s\tremaining: 2m 20s\n",
      "189:\tlearn: 0.3989684\ttotal: 40m 28s\tremaining: 2m 7s\n",
      "190:\tlearn: 0.3989471\ttotal: 40m 46s\tremaining: 1m 55s\n",
      "191:\tlearn: 0.3989262\ttotal: 40m 59s\tremaining: 1m 42s\n",
      "192:\tlearn: 0.3989101\ttotal: 41m 10s\tremaining: 1m 29s\n",
      "193:\tlearn: 0.3988904\ttotal: 41m 24s\tremaining: 1m 16s\n",
      "194:\tlearn: 0.3988720\ttotal: 41m 34s\tremaining: 1m 3s\n",
      "195:\tlearn: 0.3988532\ttotal: 41m 46s\tremaining: 51.2s\n",
      "196:\tlearn: 0.3988384\ttotal: 42m 1s\tremaining: 38.4s\n",
      "197:\tlearn: 0.3988264\ttotal: 42m 17s\tremaining: 25.6s\n",
      "198:\tlearn: 0.3988130\ttotal: 42m 30s\tremaining: 12.8s\n",
      "199:\tlearn: 0.3987950\ttotal: 42m 46s\tremaining: 0us\n",
      "Wall time: 53min 9s\n"
     ]
    }
   ],
   "source": [
    "%%time\n",
    "gbdt = cross_validate(CatBoostRegressor(iterations=200\n",
    "                        , learning_rate=0.5\n",
    "                        , task_type=\"CPU\"\n",
    "                        , custom_metric=['AUC:hints=skip_train~false']\n",
    "                        , cat_features=['msno','song_id','source_type','genre','artist_name','composer'\n",
    "                                        ,'language','name','country','city','bd','gender','label'])\n",
    "                    , x, y, cv=ShuffleSplit(n_splits=1, test_size=0.2)\n",
    "                    , return_estimator=True,return_train_score=True, scoring=\"roc_auc\")"
   ]
  },
  {
   "cell_type": "code",
   "execution_count": 160,
   "metadata": {},
   "outputs": [
    {
     "data": {
      "text/plain": [
       "{'fit_time': array([2876.85455632]),\n",
       " 'score_time': array([64.7890501]),\n",
       " 'estimator': (<catboost.core.CatBoostRegressor at 0x1fd85117148>,),\n",
       " 'test_score': array([0.86127017]),\n",
       " 'train_score': array([0.93644494])}"
      ]
     },
     "execution_count": 160,
     "metadata": {},
     "output_type": "execute_result"
    }
   ],
   "source": [
    "gbdt"
   ]
  },
  {
   "cell_type": "code",
   "execution_count": 165,
   "metadata": {},
   "outputs": [
    {
     "data": {
      "image/png": "[encoded data removed]",
      "text/plain": [
       "<Figure size 576x684 with 1 Axes>"
      ]
     },
     "metadata": {
      "needs_background": "light"
     },
     "output_type": "display_data"
    }
   ],
   "source": [
    "explainer = shap.TreeExplainer(gbdt['estimator'][0])\n",
    "shap_values = explainer.shap_values(x[:10_000])\n",
    "shap.summary_plot(shap_values, x[:10_000], plot_type=\"bar\")"
   ]
  },
  {
   "cell_type": "markdown",
   "metadata": {},
   "source": [
    "Мы знатно переобучились и в первый, и во второй раз  \n",
    "Но радует, что деревья дружат с w2v"
   ]
  }
 ],
 "metadata": {
  "kernelspec": {
   "display_name": "Python 3",
   "language": "python",
   "name": "python3"
  },
  "language_info": {
   "codemirror_mode": {
    "name": "ipython",
    "version": 3
   },
   "file_extension": ".py",
   "mimetype": "text/x-python",
   "name": "python",
   "nbconvert_exporter": "python",
   "pygments_lexer": "ipython3",
   "version": "3.7.4"
  }
 },
 "nbformat": 4,
 "nbformat_minor": 2
}
